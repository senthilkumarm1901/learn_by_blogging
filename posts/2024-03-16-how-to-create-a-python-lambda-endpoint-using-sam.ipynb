{
 "cells": [
  {
   "cell_type": "raw",
   "id": "bb4e8f85",
   "metadata": {},
   "source": [
    "---\n",
    "author: Senthil Kumar\n",
    "badges: true\n",
    "branch: master\n",
    "categories:\n",
    "- Serverless\n",
    "- AWS\n",
    "- SAM\n",
    "- AWS CLI\n",
    "\n",
    "date: '2024-03-16'\n",
    "description: This blog shows how to create an AWS Lambda Endpoint with a custom authorizer Lambda using SAM template\n",
    "output-file: 2024-03-16-sam-aws-lambda-with-authorizer.html\n",
    "title: How to create a python AWS Lambda with API endpoint via SAM template\n",
    "toc: true\n",
    "image: images/lambda_with_sam/lambda_endpoint_with_authorizer.png\n",
    "draft: true\n",
    "---"
   ]
  },
  {
   "cell_type": "markdown",
   "id": "652aa14e",
   "metadata": {},
   "source": [
    "# Agenda\n",
    "\n",
    "- 1. Creation of a Simple Python Lambda \n",
    "    - That does Regex Capture\n",
    "- 2. Deploy the Lambda with API Gateway using SAM Template\n",
    "    - Deploy it in local and evaluate result \n",
    "- 3. Adding a Custom Lambda Authorizer\n",
    "    - Editing the SAM Template\n",
    "    - Adding an Authorizer Lambda\n",
    "- 4. Deploying the Final SAM Template\n",
    "    - In Local\n",
    "    - To AWS Cloud\n",
    "- 5. Hit the API Endpoint"
   ]
  },
  {
   "cell_type": "code",
   "execution_count": null,
   "id": "3841200f",
   "metadata": {},
   "outputs": [],
   "source": []
  }
 ],
 "metadata": {
  "kernelspec": {
   "display_name": "Python 3 (ipykernel)",
   "language": "python",
   "name": "python3"
  },
  "language_info": {
   "codemirror_mode": {
    "name": "ipython",
    "version": 3
   },
   "file_extension": ".py",
   "mimetype": "text/x-python",
   "name": "python",
   "nbconvert_exporter": "python",
   "pygments_lexer": "ipython3",
   "version": "3.9.13"
  }
 },
 "nbformat": 4,
 "nbformat_minor": 5
}
