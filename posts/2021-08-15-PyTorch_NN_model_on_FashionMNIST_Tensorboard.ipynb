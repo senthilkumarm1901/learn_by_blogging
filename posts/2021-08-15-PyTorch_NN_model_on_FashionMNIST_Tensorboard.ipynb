{
 "cells": [
  {
   "cell_type": "raw",
   "metadata": {},
   "source": [
    "---\n",
    "aliases:\n",
    "- /pytorch/2021/08/15/PyTorch_NN_model_on_FashionMNIST_Tensorboard\n",
    "author: Senthil Kumar\n",
    "badges: true\n",
    "branch: master\n",
    "categories:\n",
    "- Coding\n",
    "- DL\n",
    "date: '2021-08-15'\n",
    "description: This blog post explains the basics of PyTorch Tensors, the workflow to\n",
    "  train a 2 layer Neural Network for a vision dataset and track the progress in a\n",
    "  Tensorboard\n",
    "hide: false\n",
    "image: images/pytorch_nn/pytorch_offl_image.png\n",
    "output-file: 2021-08-15-pytorch_nn_model_on_fashionmnist_tensorboard.html\n",
    "title: An Introduction to PyTorch Fundamentals for Training DL Models\n",
    "toc: true\n",
    "\n",
    "---\n",
    "\n"
   ]
  },
  {
   "cell_type": "markdown",
   "id": "1932889a",
   "metadata": {},
   "source": [
    "## Introduction"
   ]
  },
  {
   "cell_type": "markdown",
   "id": "ba578d6a",
   "metadata": {},
   "source": [
    "- We have taken `FashionMNIST` dataset and prepared a simple 2-layer NN model to uncover the fundamental concepts of PyTorch\n",
    "- Before going into the DL portions, let us look at Tensors first"
   ]
  },
  {
   "cell_type": "markdown",
   "id": "9f7ad860",
   "metadata": {},
   "source": [
    "<hr>"
   ]
  },
  {
   "cell_type": "markdown",
   "id": "ea11f715",
   "metadata": {},
   "source": [
    "## 0. What are Tensors"
   ]
  },
  {
   "cell_type": "markdown",
   "id": "5d9e63d2",
   "metadata": {},
   "source": [
    "- Tensors are **like** numerical arrays that encode the input, output and weights/parameters of a model in the form of arrays and matrices.\n",
    "- Typical 1D and 2D arrays:\n",
    "\n",
    "![image](https://user-images.githubusercontent.com/24909551/157380975-0402a8ec-7f49-49a3-aef8-5fadc19d4c9c.png)\n",
    "Source:  docs.microsoft.com/en-US/learn    \n",
    "\n",
    "- How to imagine a 3D array:\n",
    "\n",
    "![image](https://user-images.githubusercontent.com/24909551/157381034-056897c1-acea-459b-b43a-1b56d55b2434.png)\n",
    "Source:  docs.microsoft.com/en-US/learn    \n",
    "\n",
    "- Tensors work better on GPUs. They are optimized for **automatic differentiation**\n",
    "- Tensors and numpy often have the same memory address. For example, review the code below <br>\n",
    "\n",
    "```python\n",
    "import numpy as np\n",
    "import torch\n",
    "\n",
    "data = [[1,2],[3,4]]\n",
    "np_array = np.array(data)\n",
    "tensor_array = torch.from_numpy(np_array)\n",
    "\n",
    "# doing multiplication opearation on `np_array`\n",
    "np.multiply(np_array,2,out=np_array)\n",
    "\n",
    "print(f\"Numpy array:{np_array}\")\n",
    "print(f\"Tensor array:{tensor_array}\")\n",
    "```\n",
    "\n",
    "```python\n",
    "Numpy array:[[2 4]\n",
    " [6 8]]\n",
    "Tensor array:tensor([[2, 4],\n",
    "        [6, 8]])\n",
    "```\n",
    "\n",
    "**How to initialize a tensor?**: <br>\n",
    "\n",
    "```python    \n",
    "# directly from a python datastructure element\n",
    "data = [[1,2],[3,4]]\n",
    "x_tensor_from_data = torch.tensor(data)\n",
    "\n",
    "# from numpy_array\n",
    "np_array = np.array(data)\n",
    "x_tensor_from_numpy = torch.from_numpy(np_array)\n",
    "\n",
    "# from other tensors\n",
    "x_new_tensor = torch.rand_like(x_tensor_from_data, dtype=torch.float) # dtype overrides the dtype of z_tensor_from_data\n",
    "    \n",
    "# random or new tensor of given shape\n",
    "shape = (2,3,) # or just (2,3)\n",
    "x_new_tensor_2 = torch.ones(shape)\n",
    "```\n",
    "    \n",
    "**What are the `attributes` of a tensor?**:<br>\n",
    "\n",
    "```python\n",
    "print(f\"{x_new_tensor_2.shape}\")\n",
    "print(f\"{x_new_tensor_2.dtype}\")\n",
    "print(f\"{x_new_tensor_2.device}\") # whether stored in CPU or GPU\n",
    "```\n",
    "\n",
    "**When to use CPU and and when to use GPU while `operating` tensors?**: <br>\n",
    "\n",
    "- Some common tensor operations include: Any arithmetic operation, linear algebra, matrix manipulation (transposing, indexing, slicing)\n",
    "- Typical GPUs have 1000s of cores. GPUs can handle parallel processing.\n",
    "\n",
    "![image](https://user-images.githubusercontent.com/24909551/159158293-6faec4f4-e959-4fa6-a5cf-114ddb83810b.png)\n",
    "Source:  docs.microsoft.com/en-US/learn    \n",
    "\n",
    "- Typical CPUs have 4 cores. Modern CPUs can have upto 16 cores. Cores are units that do the actual computation. Each core processes tasks in **sequential** order\n",
    "\n",
    "![image](https://user-images.githubusercontent.com/24909551/159158302-d75e6fea-eaaa-4c01-a930-0b41a5cfde7c.png)\n",
    "Source:  docs.microsoft.com/en-US/learn    \n",
    "\n",
    "- Caveat: Copying large tensors across devices can be expensive w.r.t `time` and `memory`\n",
    "\n",
    "- `PyTorch` uses Nvidia `CUDA` library in the backend to operate on GPU cards\n",
    "\n",
    "```python\n",
    "if torch.cuda._is_available():\n",
    "    gpu_tensor = original_tensor.to('cuda') \n",
    "```\n",
    "\n",
    "**What are the common tensor operations?**: <br>\n",
    "- `Joining` or `ConCATenate`\n",
    "```python\n",
    "new_tensor = torch.cat([tensor, tensor],dim=1) # join along column if dim=1\n",
    "```    \n",
    "- `Matrix Multiplication`   \n",
    "```python\n",
    "# you would have to do the transpose\n",
    "y1 = tensor @ tensor.T\n",
    "y2 = tensor.matmul(tensor.T)\n",
    "y3 = torch.rand_like(tensor)\n",
    "torch.matmul(tensor, tensor.T, out=y3)\n",
    "assert y1 = y2 = y3\n",
    "```\n",
    "\n",
    "- `Element-wise Multiplication`    \n",
    "```python\n",
    "z1 = tensor * tensor\n",
    "z2 = tensor.mul(tensor)\n",
    "z3 = torch.rand_like(tensor)\n",
    "torch.mul(tensor, tensor, out=z3)\n",
    "```  \n",
    "\n",
    "- `Single element tensor` into python numerical value    \n",
    "```python\n",
    "sum_of_values = tensor.sum()\n",
    "sum_of_values_python_variable = sum_of_values.item()\n",
    "print(sum_of_values.dtype, type(sum_of_values_python_variable))\n",
    "# >> torch.int64, <class 'int'>\n",
    "```\n",
    "\n",
    "- `In-place Operations`    \n",
    "\n",
    "```python\n",
    "# add in_place\n",
    "tensor.add_(5)\n",
    "```\n",
    "\n",
    "```\n",
    "# transpose  in place\n",
    "tensor.t_()\n",
    "\n",
    "```   "
   ]
  },
  {
   "cell_type": "markdown",
   "id": "cdef238f",
   "metadata": {},
   "source": [
    "Summary of the key operations"
   ]
  },
  {
   "cell_type": "markdown",
   "id": "36554d55",
   "metadata": {},
   "source": [
    " - `torch.cuda.is_available()` gives a boolean output\n",
    " - `torch.tensor(x)` <br>\n",
    "  - x could be a 1D or 2D iterable (list or tuple) <br>\n",
    " - `torch.ones_like(tensor_variable)`, `torch.rand_like(tensor_variable)` <br>\n",
    " - `torch.ones(shape_in_a_tuple_or_list)` , `torch.zeros(shape_in_a_tuple_or_list)` and  `torch.rand(shape_in_a_tuple_or_list)` <br>\n",
    " - `torch_tensor_variable[start_index:end_index:step_value]` (similar to a numpy indexing)\n",
    " - numpy to torch tensor: `torch.from_numpy(np_array)`\n",
    " - torch_tensor to numpy: `torch_tensor_variable.numpy()`\n",
    " - Concatenate across rows `torch.cat((an_iterable_of_tensors),dim=0)`<br>\n",
    " - Concatenate across columns `torch.cat((an_iterable_of_tensors),dim=1)` <br>\n",
    " - tensor multiplication `tensor1 * tensor2 == torch.mul(tensor1,tensor2,out=tensor3) == tensor1.mul(tensor2)` <br>\n",
    " - convert single_element_tensor into a python datatype using `.item()` --> `single_element_tensor = tensor1.sum(); python_variable = single_element_tensor.item()` <br>\n",
    " - In-place Operations in torch using `_`: `x.add_(5)` will add 5 to each element of x <br>\n",
    " - tensor `n = t.numpy()` & np.add(n,2,out=n) --> A change in `n` will automatically change `t` (vice versa is true too)"
   ]
  },
  {
   "cell_type": "markdown",
   "id": "c180ebac",
   "metadata": {},
   "source": [
    "<hr>"
   ]
  },
  {
   "cell_type": "markdown",
   "id": "586e9a4d",
   "metadata": {},
   "source": [
    "Importing relevant modules"
   ]
  },
  {
   "cell_type": "code",
   "execution_count": 15,
   "id": "87f786b5",
   "metadata": {},
   "outputs": [],
   "source": [
    "#| code-fold: true\n",
    "%matplotlib inline\n",
    "import torch\n",
    "import torchvision\n",
    "from torch import nn\n",
    "from torch.utils.data import DataLoader\n",
    "from torch.utils.data.sampler import SubsetRandomSampler\n",
    "# torchvision.datasets module contains `Dataset` objects for many real-world vision data\n",
    "from torchvision import datasets # other domain-specific libraries TorchAudio, TorchText\n",
    "from torchvision.transforms import (\n",
    "    ToTensor, # for normalizing the pixel values to the range [0,1]\n",
    "    Lambda, # to make user-defined functions as one of the transformations \n",
    "    )\n",
    "import matplotlib.pyplot as plt\n",
    "from torch.utils.tensorboard import SummaryWriter\n",
    "import numpy as np"
   ]
  },
  {
   "cell_type": "markdown",
   "id": "d3bdcc12",
   "metadata": {},
   "source": [
    "<hr>"
   ]
  },
  {
   "cell_type": "markdown",
   "id": "6fbd412b",
   "metadata": {},
   "source": [
    "## 1. Dataset and DataLoaders"
   ]
  },
  {
   "cell_type": "markdown",
   "id": "b2fa0c40",
   "metadata": {},
   "source": [
    "Two data `primitives` to handle data efficiently: <br>\n",
    "- `torch.utils.data.Dataset`\n",
    "- `torch.utils.data.DataLoader` \n",
    "\n",
    "**How should the data be preprocessed before training in DL?**: <br>\n",
    "- Pass samples of data in `minibatches`\n",
    "- reshuffle the data at every epoch to overfitting\n",
    "- leverage Python's `multiprocessing` to speed up data retrieval\n",
    "\n",
    "**`torch.utils.data.DataLoader` abstracts all the above steps**\n",
    "\n",
    "\n",
    "What does `Dataset` do?\n",
    "- `Dataset`: Stores data samples and their corresponding labels\n",
    "- `DataLoader`: Wraps an iterable around Dataset to enable easy access to the samples. `DataLoader` can also be used along with `torch.multiprocessing`\n",
    "- `torchvision.datasets` and `torchtext.datasets` are both subclasses of `torch.utils.data.Dataset` (they have __getitem__ and __len__ methods implemented) and also they can be passed to a `torch.utils.data.DataLoader`\n"
   ]
  },
  {
   "cell_type": "markdown",
   "id": "16279017",
   "metadata": {},
   "source": [
    "**What does normalization do?**: <br>\n",
    "- Changes the range of the data\n",
    "- When one pixel value is 15 and another pixel is 190, the higher pixel value will deviate the learning \n",
    "\n",
    "**Why do we do normalization of data before training a DL**:\n",
    "- Prediction accuracy is better for normalized data\n",
    "- Model can learn faster if data is normalized\n"
   ]
  },
  {
   "cell_type": "markdown",
   "id": "8518ca3e",
   "metadata": {},
   "source": [
    "**More details on PyTorch Primitives**"
   ]
  },
  {
   "cell_type": "markdown",
   "id": "d9ac3c21",
   "metadata": {},
   "source": [
    "- `torchvision.datasets` --> to use pre-existing datasets like FashionMNIST, coco, cifar, etc.,\n",
    "- torchvision.datasets have arguments/parameters to `transform` featuers (aka inputs) and `target_transform` to transform labels (like one hot encoding of labels\n",
    "- CustomDatasetClass must overwrite the `magic methods` of python such as \n",
    "        - `__init__`, `__getitem__` and `__len__` methods inherited from `Dataset`\n",
    "- `torchvision.transforms.ToTensor` (to transform/modify the features) and `torchvision.transforms.Lambda` (to transform the target/labels)\n",
    "        - `torchvision.transforms.ToTensor()` converts features to normalized tensors\n",
    "        - `torchvision.transforms.Lambda` could be used to transform labels\n",
    "        - `Lambda(lambda y: torch.zeros(number_of_classes,dtype=torch.float).scatter_(dim=0, index=torch.tensor(y), value=1)\n",
    "                  )`\n",
    "        - `Tensor.scatter_` is used to change values of a tensor variable at specified indices"
   ]
  },
  {
   "cell_type": "markdown",
   "id": "5a7491df",
   "metadata": {},
   "source": [
    "### 1A. Converting Data into Model Suitable Iterables "
   ]
  },
  {
   "cell_type": "markdown",
   "id": "9334eee2",
   "metadata": {},
   "source": [
    "- Downloading and transforming the datasets\n",
    "- Preparing train, validation and test datasets"
   ]
  },
  {
   "cell_type": "code",
   "execution_count": null,
   "id": "446e1cb9",
   "metadata": {},
   "outputs": [],
   "source": [
    "# help(datasets.FashionMNIST)\n",
    "help(datasets.MNIST)"
   ]
  },
  {
   "cell_type": "code",
   "execution_count": 3,
   "id": "45bf6b17",
   "metadata": {},
   "outputs": [
    {
     "name": "stderr",
     "output_type": "stream",
     "text": [
      "/opt/conda/lib/python3.7/site-packages/torchvision/datasets/mnist.py:498: UserWarning: The given NumPy array is not writeable, and PyTorch does not support non-writeable tensors. This means you can write to the underlying (supposedly non-writeable) NumPy array using the tensor. You may want to copy the array to protect its data or make it writeable before converting it to a tensor. This type of warning will be suppressed for the rest of this program. (Triggered internally at  /opt/conda/conda-bld/pytorch_1623448265233/work/torch/csrc/utils/tensor_numpy.cpp:180.)\n",
      "  return torch.from_numpy(parsed.astype(m[2], copy=False)).view(*s)\n"
     ]
    }
   ],
   "source": [
    "# Download training data from open datasets.\n",
    "training_data = datasets.FashionMNIST(\n",
    "    root=\"data\",\n",
    "    train=True,\n",
    "    download=True,\n",
    "    transform=ToTensor(),\n",
    ")\n",
    "\n",
    "# Download test data from open datasets.\n",
    "test_data = datasets.FashionMNIST(\n",
    "    root=\"data\",\n",
    "    train=False,\n",
    "    download=True,\n",
    "    transform=ToTensor(),\n",
    ")"
   ]
  },
  {
   "cell_type": "code",
   "execution_count": 5,
   "id": "4da763d7",
   "metadata": {},
   "outputs": [
    {
     "name": "stdout",
     "output_type": "stream",
     "text": [
      "tensor([9, 2, 1, 1, 6])\n"
     ]
    }
   ],
   "source": [
    "print(test_data.test_labels[0:5])"
   ]
  },
  {
   "cell_type": "code",
   "execution_count": 6,
   "id": "64b84026",
   "metadata": {},
   "outputs": [
    {
     "data": {
      "text/plain": [
       "{'T-shirt/top': 0,\n",
       " 'Trouser': 1,\n",
       " 'Pullover': 2,\n",
       " 'Dress': 3,\n",
       " 'Coat': 4,\n",
       " 'Sandal': 5,\n",
       " 'Shirt': 6,\n",
       " 'Sneaker': 7,\n",
       " 'Bag': 8,\n",
       " 'Ankle boot': 9}"
      ]
     },
     "execution_count": 6,
     "metadata": {},
     "output_type": "execute_result"
    }
   ],
   "source": [
    "training_data.class_to_idx"
   ]
  },
  {
   "cell_type": "markdown",
   "id": "b43801e1",
   "metadata": {},
   "source": [
    "```python\n",
    "# If you have a custom dataset in your location\n",
    "\n",
    "class CustomImageDataset(Dataset):\n",
    "    \"\"\"FashionMNIST like Image Dataset Class\"\"\"\n",
    "    def __init__(self, \n",
    "                 annotations_file,\n",
    "                 img_dir,\n",
    "                 transform=None,\n",
    "                 target_transform=None):\n",
    "        \"\"\"\n",
    "        Args:\n",
    "            transform (Optional): dataset will take an optional argument transform \n",
    "                so that any required processing can be applied on the sample\n",
    "        \"\"\"\n",
    "        self.img_labels = pd.read_csv(annotations_file)\n",
    "        self.img_dir = img_dir\n",
    "        self.transform = transform\n",
    "        self.target_transform = target_transform\n",
    "    \n",
    "    def __len__(self):\n",
    "        return len(self.img)\n",
    "    \n",
    "    def __getitem__(self, idx):\n",
    "        # format of data \n",
    "        # image_location, label_type\n",
    "        # tshirt1.jpg, T-shirt/top # class needs to be convered into numerical format\n",
    "        # pant4.jpg, Trouser # class needs to be convered into numerical format\n",
    "        img_path = os.path.join(self.img_dir, self.img_labels.iloc[idx,0])\n",
    "        image = tvio.read_image(img_path)\n",
    "        label = self.img_labels.iloc[idx, 1]\n",
    "        if self.transform:\n",
    "            image = self.transform(image)\n",
    "        if self.target_transform:\n",
    "            label = self.target_transform(label)\n",
    "        sample = {\"image\": image, \"label\": label}\n",
    "        return sample\n",
    "\n",
    "\n",
    "# target_transform\n",
    "# turn the integer y values into a `one_hot_encoded` vector \n",
    "# 1. create a zero tensor of size 10 torch.zeros(10, dtype=torch.float)\n",
    "# 2. `scatter_` assigns a value =1\n",
    "the_target_lambda_function = Lambda(lambda y: torch.zeros(10,\n",
    "                                    dtype=troch.float).scatter_(dim=0,\n",
    "                                                    index=torch.tensor(y), value=1))\n",
    "\n",
    "\n",
    "training_data = CustomImageDataset(\n",
    "    root=\"data\", # the path where the train/test data is stored\n",
    "    train=True, # False if it is a test dataset \n",
    "    download=False, # downloads the data from Web if not available at root\n",
    "    transform=ToTensor(), # transform the features; converts PIL image or numpy array into a FloatTensor and scaled the image's pixel intensity to the range [0,1]\n",
    "    target_transform=the_target_lambda_function\n",
    ")\n",
    "\n",
    "test_data = datasets.FashionMNIST(\n",
    "    root=\"data\",\n",
    "    train=False,\n",
    "    download=False,\n",
    "    transform=ToTensor(),\n",
    "    target_transform=the_target_lambda_function\n",
    "    # target_transform=torch.nn.functional.one_hot(y, num_classes=10) # alternate way\n",
    ")\n",
    "```"
   ]
  },
  {
   "cell_type": "markdown",
   "id": "9fc6794e",
   "metadata": {},
   "source": [
    "Preparing Validation Data from Test Data"
   ]
  },
  {
   "cell_type": "code",
   "execution_count": 7,
   "id": "e5983671",
   "metadata": {},
   "outputs": [
    {
     "name": "stdout",
     "output_type": "stream",
     "text": [
      "[7400, 11594, 9947, 24051, 56426]\n"
     ]
    }
   ],
   "source": [
    "indices = list(range(len(training_data)))\n",
    "np.random.shuffle(indices)\n",
    "\n",
    "print(indices[0:5])"
   ]
  },
  {
   "cell_type": "code",
   "execution_count": 8,
   "id": "0d919334",
   "metadata": {},
   "outputs": [],
   "source": [
    "split = int(np.floor(0.2 * len(training_data)))\n",
    "training_data_sample = SubsetRandomSampler(indices[split:])\n",
    "validation_data_sample = SubsetRandomSampler(indices[:split])"
   ]
  },
  {
   "cell_type": "markdown",
   "id": "d64a83dd",
   "metadata": {},
   "source": [
    "Convert into iterables"
   ]
  },
  {
   "cell_type": "code",
   "execution_count": 17,
   "id": "4f98fe92",
   "metadata": {},
   "outputs": [
    {
     "name": "stdout",
     "output_type": "stream",
     "text": [
      "12000\n",
      "3000\n",
      "2500\n",
      "Shape of Features: torch.Size([4, 1, 28, 28])\n",
      "Shape of Labels: torch.Size([4])\n"
     ]
    }
   ],
   "source": [
    "batchsize = 4\n",
    "\n",
    "# create iterables \n",
    "train_dataloader = DataLoader(training_data, sampler=training_data_sample, batch_size=batchsize)\n",
    "validation_dataloader = DataLoader(training_data, sampler=validation_data_sample, batch_size=batchsize)\n",
    "test_dataloader = DataLoader(test_data, batch_size=batchsize)\n",
    "\n",
    "print(len(train_dataloader))\n",
    "print(len(validation_dataloader))\n",
    "print(len(test_dataloader))\n",
    "\n",
    "# to understand the shape of input features and output\n",
    "for X,y in test_dataloader:\n",
    "    print(\"Shape of Features:\",X.shape)\n",
    "    print(\"Shape of Labels:\",y.shape)\n",
    "    break"
   ]
  },
  {
   "cell_type": "code",
   "execution_count": 18,
   "id": "014bdd54",
   "metadata": {},
   "outputs": [
    {
     "data": {
      "text/plain": [
       "12000"
      ]
     },
     "execution_count": 18,
     "metadata": {},
     "output_type": "execute_result"
    }
   ],
   "source": [
    "len(train_dataloader)"
   ]
  },
  {
   "cell_type": "markdown",
   "id": "72fb18fe",
   "metadata": {},
   "source": [
    "- The above shape of training image is in the format NCHW\n",
    "- batchsize N, no. of channels C, height H, width W"
   ]
  },
  {
   "cell_type": "markdown",
   "id": "60aab2d7",
   "metadata": {},
   "source": [
    "### 1B. Visualize sample data"
   ]
  },
  {
   "cell_type": "code",
   "execution_count": 23,
   "id": "b68d315a",
   "metadata": {},
   "outputs": [
    {
     "data": {
      "image/png": "[encoded data removed]",
      "text/plain": [
       "<Figure size 360x360 with 4 Axes>"
      ]
     },
     "metadata": {},
     "output_type": "display_data"
    }
   ],
   "source": [
    "dataiter = iter(train_dataloader)\n",
    "images, labels = dataiter.next()\n",
    "\n",
    "fig = plt.figure(figsize=(5,5))\n",
    "\n",
    "for idx in np.arange(4):\n",
    "    ax = fig.add_subplot(1, 4, idx+1, xticks=[], yticks=[])\n",
    "    ax.imshow(np.squeeze(images[idx]), cmap='gray')\n",
    "    ax.set_title(labels[idx].item())\n",
    "    fig.tight_layout()"
   ]
  },
  {
   "cell_type": "code",
   "execution_count": 24,
   "id": "0dac265e",
   "metadata": {},
   "outputs": [
    {
     "data": {
      "text/plain": [
       "<matplotlib.image.AxesImage at 0x7f38e81aedd0>"
      ]
     },
     "execution_count": 24,
     "metadata": {},
     "output_type": "execute_result"
    },
    {
     "data": {
      "image/png": "[encoded data removed]",
      "text/plain": [
       "<Figure size 360x360 with 1 Axes>"
      ]
     },
     "metadata": {
      "needs_background": "light"
     },
     "output_type": "display_data"
    }
   ],
   "source": [
    "# looking into just one image, label\n",
    "\n",
    "figure = plt.figure(figsize=(5,5))\n",
    "img, label = test_data[0]\n",
    "\n",
    "plt.axis(\"off\")\n",
    "plt.imshow(img.squeeze(),cmap=\"gray\")"
   ]
  },
  {
   "cell_type": "code",
   "execution_count": 25,
   "id": "908dd43b",
   "metadata": {},
   "outputs": [
    {
     "data": {
      "image/png": "[encoded data removed]",
      "text/plain": [
       "<Figure size 432x288 with 1 Axes>"
      ]
     },
     "metadata": {
      "needs_background": "light"
     },
     "output_type": "display_data"
    }
   ],
   "source": [
    "# Helper function for inline image display\n",
    "def matplotlib_imshow(img, one_channel=False):\n",
    "    if one_channel:\n",
    "        img = img.mean(dim=0)\n",
    "    img = img / 2 + 0.5     # unnormalize\n",
    "    npimg = img.numpy()\n",
    "    if one_channel:\n",
    "        plt.imshow(npimg, cmap=\"Greys\")\n",
    "    else:\n",
    "        plt.imshow(np.transpose(npimg, (1, 2, 0)))\n",
    "        \n",
    "dataiter = iter(train_dataloader)\n",
    "images, labels = dataiter.next()\n",
    "\n",
    "# Create a grid from the images and show them\n",
    "img_grid = torchvision.utils.make_grid(images)\n",
    "matplotlib_imshow(img_grid, one_channel=True)"
   ]
  },
  {
   "cell_type": "markdown",
   "id": "8b26c063",
   "metadata": {},
   "source": [
    "### 1C. Initiating the Tensorboard Logs and Visualizing Sample Images"
   ]
  },
  {
   "cell_type": "code",
   "execution_count": 27,
   "id": "45c68c97",
   "metadata": {},
   "outputs": [],
   "source": [
    "# specifying the log directory\n",
    "writer = SummaryWriter('runs/fashion_mnist_2_layer_NN_experiment_1')\n",
    "\n",
    "# writing the grid of 4 images to Tensorboard log dir\n",
    "writer.add_image('Four Sample Fashion-MNIST Images', img_grid)\n",
    "writer.flush()"
   ]
  },
  {
   "cell_type": "markdown",
   "id": "94a1bf45",
   "metadata": {},
   "source": [
    "**How to load the tensorboard**"
   ]
  },
  {
   "cell_type": "markdown",
   "id": "7de26e76",
   "metadata": {},
   "source": [
    "To view, start TensorBoard on the command line with:\n",
    "- `tensorboard --logdir=runs`\n",
    "- and open a browser tab to http://localhost:6006/\n",
    "- Can view the sample images in `images` tab "
   ]
  },
  {
   "cell_type": "markdown",
   "id": "3c016e12",
   "metadata": {},
   "source": [
    "- Load the TensorBoard notebook extension for jupyter notebook\n",
    "```\n",
    "%load_ext tensorboard\n",
    "```"
   ]
  },
  {
   "cell_type": "markdown",
   "id": "038d4056",
   "metadata": {},
   "source": [
    "- Run the tensorboard from jupyter notebook\n",
    "\n",
    "```\n",
    "%tensorboard --logdir runs/fashion_mnist_2_layer_NN_experiment_1\n",
    "```"
   ]
  },
  {
   "cell_type": "markdown",
   "id": "8973d252",
   "metadata": {},
   "source": [
    "<hr>"
   ]
  },
  {
   "cell_type": "markdown",
   "id": "bc6b4b2d",
   "metadata": {},
   "source": [
    "## 2. Build the Model Layers"
   ]
  },
  {
   "cell_type": "markdown",
   "id": "98d401a2",
   "metadata": {},
   "source": [
    "Build a NN with **2 hidden layers** and 1 output layer"
   ]
  },
  {
   "cell_type": "markdown",
   "id": "aa2d1a22",
   "metadata": {},
   "source": [
    "**Components of a Neural Network**:\n",
    "\n",
    "- Typical Neural Network: <br>\n",
    "\n",
    "![image](https://user-images.githubusercontent.com/24909551/160055546-f6150c41-acb0-44a4-942e-0d20c86e8972.png)\n",
    "\n",
    "- Activation Function, Weight and Bias\n",
    "\n",
    "![image](https://user-images.githubusercontent.com/24909551/160055714-0bfb081d-6c1b-4733-a226-d7db71e74fec.png)\n",
    "\n",
    "- Linear weighted sum of inputs: x = &sum;(`weights` * `inputs`) + `bias`    \n",
    "- f(x) = activation_func(x)\n",
    "\n",
    "- Activation Functions add non-linearity to the model    \n",
    "- Different Activation Functions: <br>\n",
    "    - **Sigmoid**: <sup>1</sup>/<sub>(1 + exp(-x))</sub>\n",
    "    - **Softmax**: <sup>exp(x)</sup> / <sub>(sum(exp(x)))</sub>\n",
    "    - **ReLU**: max(0,x)\n",
    "    - **Tanh**: <sup>(exp(x) - exp(-x))</sup>/<sub>(exp(x) + exp(-x))</sub>\n",
    "\n",
    "**Building a neural network in PyTorch** \n",
    "- `torch.nn` class provides all the building block needed to build a NN\n",
    "- Every module/layer in PyTorch subclases the `torch.nn.Module`\n",
    "- A NN is a composite module consisting of other modules (layers)\n",
    "    \n",
    "    \n",
    "- Initialize all layers in `__init__` module\n",
    "- Build a 3-layer NN with \n",
    "    - flattened `28*28` image as input,\n",
    "    - 2 hidden layers will have 512 neurons each and\n",
    "    - the third layer (which also has relu activation function) will have 10 neurons each corresponding to the number of classes\n",
    "  "
   ]
  },
  {
   "cell_type": "code",
   "execution_count": 28,
   "id": "7bf41165",
   "metadata": {},
   "outputs": [
    {
     "name": "stdout",
     "output_type": "stream",
     "text": [
      "Using cuda\n"
     ]
    }
   ],
   "source": [
    "device = \"cuda\" if torch.cuda.is_available() else \"cpu\"\n",
    "print(f\"Using {device}\")"
   ]
  },
  {
   "cell_type": "code",
   "execution_count": 29,
   "id": "076ac7a1",
   "metadata": {},
   "outputs": [
    {
     "name": "stdout",
     "output_type": "stream",
     "text": [
      "NeuralNetwork(\n",
      "  (flatten): Flatten(start_dim=1, end_dim=-1)\n",
      "  (linear_relu_stack): Sequential(\n",
      "    (0): Linear(in_features=784, out_features=512, bias=True)\n",
      "    (1): ReLU()\n",
      "    (2): Linear(in_features=512, out_features=512, bias=True)\n",
      "    (3): ReLU()\n",
      "    (4): Linear(in_features=512, out_features=10, bias=True)\n",
      "    (5): ReLU()\n",
      "  )\n",
      ")\n"
     ]
    }
   ],
   "source": [
    "# defining the model architecture\n",
    "\n",
    "class NeuralNetwork(nn.Module):\n",
    "    def __init__(self):\n",
    "        # initialize the layers in __init__ constructor\n",
    "        super(NeuralNetwork,self).__init__()\n",
    "        # supercharge your sub-class by inheriting the defaults from Parent class\n",
    "        self.flatten = nn.Flatten()\n",
    "        # one can also use Functional API in PyTorch \n",
    "        # but below codes use Sequential API\n",
    "        # the below stack of layers generates scores or logits\n",
    "        self.linear_relu_stack = nn.Sequential(\n",
    "            # hidden layer 1 consisting of 512 neurons\n",
    "            nn.Linear(28*28, 512),\n",
    "            nn.ReLU(),\n",
    "            # hidden layer 2 consisting of 512 neurons too\n",
    "            nn.Linear(512,512),\n",
    "            nn.ReLU(),\n",
    "            # output layer consisting of 10 neurons \n",
    "            nn.Linear(512,10),\n",
    "            # we can also build a NN without this final layer ReLU\n",
    "            # instead can also run the log_softmax directly\n",
    "            nn.ReLU(), \n",
    "        )\n",
    "        \n",
    "    def forward(self,x): # need to pass the input argument x\n",
    "        # function where the input is run through \n",
    "        # the initialized layers\n",
    "        x = self.flatten(x)\n",
    "        logits = self.linear_relu_stack(x)\n",
    "        return logits\n",
    "    \n",
    "# create a instance of the class NeuralNetwork \n",
    "# move it to the device (CPU or GPU)\n",
    "model = NeuralNetwork().to(device)\n",
    "\n",
    "# print model structure\n",
    "print(model)\n",
    "\n",
    "# is nn.ReLU in the final layer?\n",
    "# https://ai.stackexchange.com/questions/8491/does-it-make-sense-to-apply-softmax-on-top-of-relu"
   ]
  },
  {
   "cell_type": "markdown",
   "id": "61c056ac",
   "metadata": {},
   "source": [
    "- Why `model(X)` instead of `model.forward(X)`? <br>\n",
    "[Source](https://stackoverflow.com/questions/55338756/why-there-are-different-output-between-model-forwardinput-and-modelinput) "
   ]
  },
  {
   "cell_type": "markdown",
   "id": "d6274519",
   "metadata": {},
   "source": [
    "Dissecting the steps using Functional API"
   ]
  },
  {
   "cell_type": "markdown",
   "id": "05c5adc5",
   "metadata": {},
   "source": [
    "- **Step 1**:Convert `28*28` into a contiguous array of 784 pixel values\n",
    "    \n",
    "```python\n",
    "input_image = torch.rand(3, 28, 28)\n",
    "print(input_image.size())\n",
    "# step 1: Flatten the input image\n",
    "flatten = nn.Flatten() # instantitate\n",
    "flat_image = flatten(input_image)  # pass the prev layer (input) into the instance\n",
    "print(flat_image.size())\n",
    "```\n",
    "- **Step 2**: Dense or linear layer in PyTorch `weight * input + bias`\n",
    "    \n",
    "```python    \n",
    "# step 2: apply linear transformation `weight * input + bias`\n",
    "layer1 = nn.Linear(in_features=28*28, out_features=512) # instantiate\n",
    "hidden1 = layer1(flat_image) # pass the prev layer (flattened image) into the instance\n",
    "print(hidden1.size())\n",
    "```\n",
    "\n",
    "- **Step 3**: Apply Relu activation on the linear transformation\n",
    "    \n",
    "```python\n",
    "relu_activation = nn.ReLU() #instantiate\n",
    "hidden1 = relu_activation(hidden1)\n",
    "```    \n",
    "Repeat Step 2 and 3 for `hidden2`: <br>\n",
    "\n",
    "```python\n",
    "layer2 = nn.Linear(in_features=512, out_features=512)\n",
    "hidden2 = layer2(hidden1)\n",
    "hidden2 = relu_activation(hidden2)\n",
    "```    \n",
    "    \n",
    "- **Step 4**: Compute the logits\n",
    "    \n",
    "```python\n",
    "# a simple 1 hidden layer NN with 20 neurons in the hidden layer\n",
    "nn_seq_modules = nn.Sequential(\n",
    "                    flatten,\n",
    "                    layer1,\n",
    "                    relu_activation,\n",
    "                    layer2,\n",
    "                    relu_activation,\n",
    "                    nn.Linear(512, 10), # the output                )\n",
    "input_image = torch.rand(3, 28, 28)\n",
    "logits =  nn_seq_modules(input_image)   \n",
    "```\n",
    "    \n",
    "- **Step 5**: Apply `Softmax` function\n",
    "    \n",
    "```python\n",
    "\n",
    "softmax = nn.Softmax(dim=1)\n",
    "predict_probab = softmax(logits)\n",
    "\n",
    "```\n",
    "\n",
    "- Full NN workflow: \n",
    " \n",
    "![image](https://user-images.githubusercontent.com/24909551/161696907-8672f820-3293-4390-b153-bf702731352d.png)\n",
    "Source: docs.microsoft.com/en-US/learn    \n",
    "\n",
    "\n",
    "**How to see internal layers of a NN in PyTorch**:\n",
    "\n",
    "```python\n",
    "print(\"Weights stored in first layer: {model.linear_relu_stack[0].weight} \\n\")\n",
    "print(\"Bias stored in first layer: {model.linear_relu_stack[0].bias} \\n\") \n",
    "    \n",
    "from name, param in model.named_parameters():\n",
    "    print(f\"Layer: {name} | Size: {param.size()}\"\n",
    "```\n",
    "    \n",
    "```bash\n",
    "Layer: linear_relu_stack.0.weight | Size: torch.Size([512, 784])\n",
    "Layer: linear_relu_stack.0.bias | Size: torch.Size([512])\n",
    "Layer: linear_relu_stack.2.weight | Size: torch.Size([512, 512])\n",
    "Layer: linear_relu_stack.2.bias | Size: torch.Size([512])\n",
    "Layer: linear_relu_stack.4.weight | Size: torch.Size([10, 512])\n",
    "Layer: linear_relu_stack.4.bias | Size: torch.Size([10])\n",
    "```  "
   ]
  },
  {
   "cell_type": "markdown",
   "id": "ad50b018",
   "metadata": {},
   "source": [
    "<hr>"
   ]
  },
  {
   "cell_type": "markdown",
   "id": "e3d2f3c5",
   "metadata": {},
   "source": [
    "## 3. Training the Model \n",
    "Training with training data and evaluating loss on Validation Data"
   ]
  },
  {
   "cell_type": "markdown",
   "id": "7f7eb30e",
   "metadata": {},
   "source": [
    "### 3A.Setting Hyperparameters"
   ]
  },
  {
   "cell_type": "markdown",
   "id": "eea5cbd5",
   "metadata": {},
   "source": [
    "- `num_of_epochs`: The number of times the entire training dataset is pass through the network\n",
    "- `batch_size`: The number of data samples seen by the model before updating its weights. (derived parameter `steps = total_training_data/batch_size` - the number of batches needed to complete an epoch)\n",
    "- `learning_rate`: How much to change the weights in the `w = w - learning_rate * gradient`. Smaller value means the model will take a longer time to find best weights. Larger value of learning_rate might make the NN miss the optimal weights because we might step over the best values\n",
    "- Choice of `loss_fn` <br>\n",
    "Common Loss Functions for classification problems :    \n",
    "    - `nn.NLLLoss` #Negative Log Likelihood    \n",
    "    - `nn.CrossEntropyLoss` # combination of `nn.LogSoftmax` and `nn.NLLLoss`   \n",
    "- Choice of `optimizers` <br>\n",
    "    - `torch.optim.SGD`\n",
    "    - `torch.optim.Adam`\n",
    "    - `torch.optim.RMSProp` and many more ..."
   ]
  },
  {
   "cell_type": "code",
   "execution_count": 30,
   "id": "4b4dc5fc",
   "metadata": {},
   "outputs": [],
   "source": [
    "num_of_epochs = 40\n",
    "batchsize = 4 # already mentioned in the DataLoader arguments\n",
    "learning_rate = 1e-3\n",
    "\n",
    "loss_fn = nn.CrossEntropyLoss()\n",
    "optimizer = torch.optim.SGD(model.parameters(),\n",
    "                            lr=learning_rate\n",
    "                           )\n",
    "# SGD optimizer in PyTorch actually is Mini-batch Gradient Descent with momentum\n",
    "# it updates one mini-batch at a time (batchsize)\n",
    "# Source: https://discuss.pytorch.org/t/how-sgd-works-in-pytorch/8060"
   ]
  },
  {
   "cell_type": "markdown",
   "id": "06ff1f01",
   "metadata": {},
   "source": [
    "### 3B. Writing Core Training and Evaluation Loop Functions"
   ]
  },
  {
   "cell_type": "markdown",
   "id": "036f53c9",
   "metadata": {},
   "source": [
    "- `loss_fn` and `optimizer` are passed to `train_loop` and just `loss_fn` to `test_loop`\n",
    "```python\n",
    "for i in range(epochs):\n",
    "    print(f\"Epoch {i+1}\\n ----------------------------\")\n",
    "    train_loop(train_dataloader, validation_dataloader, model, loss_fn, optimizer)\n",
    "    test_loop(test_dataloader,model, loss_fn)\n",
    "print(\"Over!\")    \n",
    "```"
   ]
  },
  {
   "cell_type": "code",
   "execution_count": 33,
   "id": "d4a42cf1",
   "metadata": {},
   "outputs": [],
   "source": [
    "def train_loop(train_dataloader, validation_dataloader, model, loss_fn, optimizer, epoch):\n",
    "    train_size = len(train_dataloader.dataset)\n",
    "    validation_size = len(validation_dataloader.dataset)\n",
    "    training_loss_per_epoch = 0\n",
    "    validation_loss_per_epoch = 0\n",
    "    for batch_number, (X,y) in enumerate(train_dataloader):\n",
    "        X,y = X.to(device), y.to(device)\n",
    "        \n",
    "        # compute prediction error\n",
    "        pred = model(X)\n",
    "        loss = loss_fn(pred, y)\n",
    "        \n",
    "        # Backpropagation steps\n",
    "        # key optimizer steps\n",
    "        # by default, gradients add up in PyTorch\n",
    "        # we zero out in every iteration\n",
    "        optimizer.zero_grad() \n",
    "        # performs the gradient computation steps (across the DAG)\n",
    "        loss.backward()\n",
    "        # adjust the weights\n",
    "        optimizer.step()\n",
    "        training_loss_per_epoch += loss.item()\n",
    "        \n",
    "#         if batch_number % 100 == 0:\n",
    "#             print(f\"After completing {batch_number * len(X)} samples, the loss is:\")\n",
    "#             print(loss.item()) \n",
    "            \n",
    "    for batch_number, (X,y) in enumerate(validation_dataloader):\n",
    "        X,y = X.to(device), y.to(device)\n",
    "        \n",
    "        # compute prediction error\n",
    "        pred = model(X)\n",
    "        loss = loss_fn(pred, y)\n",
    "        \n",
    "        validation_loss_per_epoch += loss.item()\n",
    "    avg_training_loss = training_loss_per_epoch/train_size\n",
    "    avg_validation_loss = validation_loss_per_epoch/validation_size\n",
    "    print(f\"Average Training Loss of {epoch}: {avg_training_loss}\")\n",
    "    print(f\"Average Validation Loss of {epoch}: {avg_validation_loss}\")\n",
    "    writer.add_scalars('Training vs. Validation Loss',\n",
    "                       {'Training': avg_training_loss, \n",
    "                        'Validation': avg_validation_loss\n",
    "                       },\n",
    "                       epoch\n",
    "                      )"
   ]
  },
  {
   "cell_type": "code",
   "execution_count": 34,
   "id": "0f2a5d75",
   "metadata": {},
   "outputs": [],
   "source": [
    "def test_loop(test_dataloader,model, loss_fn, epoch):\n",
    "    test_size = len(test_dataloader.dataset)\n",
    "    # Failing to do eval can yield inconsistent inference results\n",
    "    model.eval()\n",
    "    test_loss_per_epoch, accuracy_per_epoch = 0, 0\n",
    "    # disabling gradient tracking while inference\n",
    "    with torch.no_grad():\n",
    "        for X,y in test_dataloader:\n",
    "            X, y = X.to(device), y.to(device)\n",
    "            pred = model(X)\n",
    "            loss = loss_fn(pred, y)\n",
    "            test_loss_per_epoch += loss.item()\n",
    "            accuracy_per_epoch += (pred.argmax(1)==y).type(torch.float).sum().item()\n",
    "    print(f\"Average Test Loss of {epoch}: {test_loss_per_epoch/test_size}\")\n",
    "    print(f\"Average Accuracy of {epoch}: {accuracy_per_epoch/test_size}\")"
   ]
  },
  {
   "cell_type": "markdown",
   "id": "359ed4c8",
   "metadata": {},
   "source": [
    "### 3C. Training the model for many epochs"
   ]
  },
  {
   "cell_type": "code",
   "execution_count": 35,
   "id": "084a5ac9",
   "metadata": {},
   "outputs": [
    {
     "name": "stdout",
     "output_type": "stream",
     "text": [
      "Epoch Number: 0 \n",
      "---------------------\n",
      "Average Training Loss of 0: 0.37492141907910503\n",
      "Average Validation Loss of 0: 0.07822599628902972\n",
      "Average Test Loss of 0: 0.3941003955438733\n",
      "Average Accuracy of 0: 0.4513\n",
      "Epoch Number: 1 \n",
      "---------------------\n",
      "Average Training Loss of 1: 0.29412952572156986\n",
      "Average Validation Loss of 1: 0.06984573040464893\n",
      "Average Test Loss of 1: 0.3524202892445028\n",
      "Average Accuracy of 1: 0.5089\n",
      "Epoch Number: 37 \n",
      "---------------------\n",
      "Average Training Loss of 37: 0.13975639427933614\n",
      "Average Validation Loss of 37: 0.037423237568447926\n",
      "Average Test Loss of 37: 0.19380079013922005\n",
      "Average Accuracy of 37: 0.7052\n",
      "Epoch Number: 38 \n",
      "---------------------\n",
      "Average Training Loss of 38: 0.13921849230745761\n",
      "Average Validation Loss of 38: 0.038412615390023046\n",
      "Average Test Loss of 38: 0.19745682889677718\n",
      "Average Accuracy of 38: 0.7015\n",
      "Epoch Number: 39 \n",
      "---------------------\n",
      "Average Training Loss of 39: 0.13862396091737622\n",
      "Average Validation Loss of 39: 0.03721317019570803\n",
      "Average Test Loss of 39: 0.1929354560287782\n",
      "Average Accuracy of 39: 0.7063\n",
      "CPU times: user 12min 2s, sys: 5.22 s, total: 12min 7s\n",
      "Wall time: 11min 39s\n"
     ]
    }
   ],
   "source": [
    "%%time\n",
    "for epoch in range(num_of_epochs):\n",
    "    print(f\"Epoch Number: {epoch} \\n---------------------\")\n",
    "    train_loop(train_dataloader, validation_dataloader, model, loss_fn, optimizer, epoch)\n",
    "    test_loop(test_dataloader,model, loss_fn, epoch)"
   ]
  },
  {
   "cell_type": "markdown",
   "id": "52fca15c",
   "metadata": {},
   "source": [
    "*truncated the results for easy viewing* "
   ]
  },
  {
   "cell_type": "markdown",
   "id": "b0d206c1",
   "metadata": {},
   "source": [
    "Points to ponder: \n",
    "- The accuracy for this 2-layer NN stands at 71%. \n",
    "- The Hyperparameters - batch_size, learning_rate, choice of optimizer - can be varied to see how results change.\n",
    "- **Changing Architecture**: Deepening the number of hidden layers can help in improving the accuracy or changing the architecture to use CNN or any pre-trained NN like *LeNet-5* or others will improve further"
   ]
  },
  {
   "cell_type": "markdown",
   "id": "507ff040",
   "metadata": {},
   "source": [
    "### 3D. Saving, Loading and Exporting the model"
   ]
  },
  {
   "cell_type": "code",
   "execution_count": 36,
   "id": "04a9016c",
   "metadata": {},
   "outputs": [
    {
     "name": "stdout",
     "output_type": "stream",
     "text": [
      "/bin/bash: warning: setlocale: LC_ALL: cannot change locale (en_US.utf-8)\r\n"
     ]
    }
   ],
   "source": [
    "!mkdir -p model_weights/"
   ]
  },
  {
   "cell_type": "code",
   "execution_count": 37,
   "id": "c7a7f2c9",
   "metadata": {},
   "outputs": [],
   "source": [
    "torch.save(model.state_dict(),\"model_weights/fmnist_2_layer_nn_model_batch_size_4.pth\")"
   ]
  },
  {
   "cell_type": "markdown",
   "id": "39ffd613",
   "metadata": {},
   "source": [
    "**How to save and load the model for inference?**    \n",
    "```python    \n",
    "# pytorch models save the parameters in a internal state dictionary called `state_dict`\n",
    "torch.save(model.state_dict(),\"data/modelname.pth\")\n",
    "    \n",
    "# infer from a saved model\n",
    "# instantiate the model architecture class\n",
    "model = NeuralNetwork()\n",
    "model.load_state_dict(torch.load(\"data/modelname.pth\"))\n",
    "# the eval method is called before inferencing so that the batch normalization dropout layers are set to `evaluation` mod\n",
    "# Failing to do this can yield inconsistent inference results\n",
    "model.eval()\n",
    "```    \n",
    "\n",
    "**How to export a pytorch model to run in any Programming Language/Platform**: <br>\n",
    "    \n",
    "- **ONNX**: Open Neural Network Exchange \n",
    "- Converting `PyTorch` model to `onnx` format aids in running the model in Java, Javascript, C# and ML.NET\n",
    "    \n",
    "```python\n",
    "# while explorting pytorch model to onnx, \n",
    "# we'd have to pass a sample input of the right shape\n",
    "# this will help produce a `persisted` ONNX model    \n",
    "import torch.onnx as onnx\n",
    "input_image = torch.zeros((1,28,28))\n",
    "onnx_model_location = 'data/model.onnx'\n",
    "onnx.export(model, input_image, onnx_model)\n",
    "```    "
   ]
  },
  {
   "cell_type": "markdown",
   "id": "1fa6e2e8",
   "metadata": {},
   "source": [
    "<hr>"
   ]
  },
  {
   "cell_type": "markdown",
   "id": "5f4e775e",
   "metadata": {},
   "source": [
    "## 4. Predict using the Trained Model\n",
    "Loading the trained model and predicting for unseen data"
   ]
  },
  {
   "cell_type": "code",
   "execution_count": 38,
   "id": "e1058551",
   "metadata": {},
   "outputs": [
    {
     "name": "stdout",
     "output_type": "stream",
     "text": [
      "Predicted: \"Ankle boot\", Actual: \"Ankle boot\"\n"
     ]
    }
   ],
   "source": [
    "# construct the model structure\n",
    "model = NeuralNetwork()\n",
    "# load the state_dict\n",
    "model.load_state_dict(torch.load(\"model_weights/fmnist_2_layer_nn_model_batch_size_4.pth\"))\n",
    "\n",
    "classes = [\n",
    "    \"T-shirt/top\",\n",
    "    \"Trouser\",\n",
    "    \"Pullover\",\n",
    "    \"Dress\",\n",
    "    \"Coat\",\n",
    "    \"Sandal\",\n",
    "    \"Shirt\",\n",
    "    \"Sneaker\",\n",
    "    \"Bag\",\n",
    "    \"Ankle boot\",\n",
    "]\n",
    "\n",
    "model.eval()\n",
    "x, y = test_data[0][0], test_data[0][1]\n",
    "with torch.no_grad():\n",
    "    pred = model(x)\n",
    "    predicted, actual = classes[pred[0].argmax(0)], classes[y]\n",
    "    print(f'Predicted: \"{predicted}\", Actual: \"{actual}\"')"
   ]
  },
  {
   "cell_type": "code",
   "execution_count": 39,
   "id": "e23094e9",
   "metadata": {},
   "outputs": [
    {
     "data": {
      "text/plain": [
       "tensor([0.0000, 0.0000, 0.0000, 0.0000, 0.0000, 1.4451, 0.0000, 0.0000, 0.0000,\n",
       "        5.6093])"
      ]
     },
     "execution_count": 39,
     "metadata": {},
     "output_type": "execute_result"
    }
   ],
   "source": [
    "# these are logit scores and not softmax outputs \n",
    "# yet they are enough for predicting the class \n",
    "# since the logits are finally coming out of a ReLU() unit\n",
    "# A ReLU outputs from (0,max)\n",
    "pred[0]"
   ]
  },
  {
   "cell_type": "markdown",
   "id": "2052d45e",
   "metadata": {},
   "source": [
    "<hr>"
   ]
  },
  {
   "cell_type": "markdown",
   "id": "d8d982df",
   "metadata": {},
   "source": [
    "## 5. Leveraging Tensorboard"
   ]
  },
  {
   "cell_type": "markdown",
   "id": "ecdee91a",
   "metadata": {},
   "source": [
    "Reiterating the steps we have already done using Tensorboard"
   ]
  },
  {
   "cell_type": "markdown",
   "id": "8e846997",
   "metadata": {},
   "source": [
    "- 1.Specifying the Log directory and using `add_images` method\n",
    "\n",
    "```python\n",
    "# `torch.utils.data.tensorboard.SummaryWriter` class\n",
    "# specifying the log directory\n",
    "writer = SummaryWriter('runs/fashion_mnist_2_layer_NN_experiment_1')\n",
    "\n",
    "# writing the grid of 4 images to Tensorboard log dir\n",
    "# we can look at `IMAGES` tab of Tensorboard for this\n",
    "writer.add_image('Four Sample Fashion-MNIST Images', img_grid)\n",
    "writer.flush()\n",
    "```\n",
    "\n",
    "- 2.Tracking Epoch level Average Training and Validation Losses. \n",
    "\n",
    "```python \n",
    "# We can track in the `SCALARS` tab of the Tensorboard\n",
    "writer.add_scalars('Training vs. Validation Loss',\n",
    "                   {'Training': avg_training_loss, \n",
    "                    'Validation': avg_validation_loss\n",
    "                   },\n",
    "                   epoch\n",
    "                  )\n",
    "```\n",
    "\n",
    "**The Graph of Training Loss (blue line) and Validation Loss (green line) in Tensorboard**\n",
    "\n",
    "![](./pytorch_nn/training_and_validation_loss_over_epochs.png)\n",
    "\n",
    "- 3.After trained model is obtained, we can look at the graph to trace the sample input through your model\n",
    "\n",
    "```python\n",
    "# We can track in the `GRAPH` tab of the Tensorboard\n",
    "dataiter = iter(train_dataloader)\n",
    "images, labels = dataiter.next()\n",
    "\n",
    "# add_graph() will trace the sample input through your model\n",
    "writer.add_graph(model, images)\n",
    "writer.flush()\n",
    "```\n",
    "\n",
    "**NN_graph in Tensorboard**\n",
    "![](./pytorch_nn/NN_Tensorboard_graph.png)\n"
   ]
  },
  {
   "cell_type": "markdown",
   "id": "248a086f",
   "metadata": {},
   "source": [
    "<hr>"
   ]
  },
  {
   "cell_type": "markdown",
   "id": "9a1415bc",
   "metadata": {},
   "source": [
    "## 6. Sources and GitHub Links <br>\n",
    "**Sources**:\n",
    "- MSFT PyTorch Course | [link](https://docs.microsoft.com/en-us/learn/modules/intro-machine-learning-pytorch/8-quickstart)\n",
    "- PyTorch Official Tutorial Explaining with FashionMNIST data | [link](https://pytorch.org/tutorials/beginner/introyt/tensorboardyt_tutorial.html)\n",
    "- A useful Medium article on FashionMNIST dataset | [link](https://medium.com/@aaysbt/fashion-mnist-data-training-using-pytorch-7f6ad71e96f4)\n",
    "\n",
    "**Github Links**:\n",
    "- Dockerfile to replicate the environment | [link](https://github.com/senthilkumarm1901/myCodingProjects/blob/main/SpacyNER/docker/Dockerfile.txt)\n",
    "- To replicate the DL workflow described here | [Notebook link](https://github.com/senthilkumarm1901/PythonTutorials/blob/master/PyTorch_Tutorials/Microsoft_PyTorch_Course/PyTorch_NN_model_on_FashionMNIST_Tensorboard.ipynb)"
   ]
  },
  {
   "cell_type": "markdown",
   "id": "5d4c658f",
   "metadata": {},
   "source": [
    "<hr>"
   ]
  }
 ],
 "metadata": {
  "kernelspec": {
   "display_name": "Python 3.9.13 64-bit ('3.9.13')",
   "language": "python",
   "name": "python3"
  },
  "language_info": {
   "codemirror_mode": {
    "name": "ipython",
    "version": 3
   },
   "file_extension": ".py",
   "mimetype": "text/x-python",
   "name": "python",
   "nbconvert_exporter": "python",
   "pygments_lexer": "ipython3",
   "version": "3.9.13"
  },
  "vscode": {
   "interpreter": {
    "hash": "98c3ded5f4c982d767ead9cded27e95b53d0df25404a508cedfb98865b9710c5"
   }
  }
 },
 "nbformat": 4,
 "nbformat_minor": 5
}
