{
 "cells": [
  {
   "cell_type": "raw",
   "id": "c4af6b50",
   "metadata": {},
   "source": [
    "---\n",
    "title: llm_memory_size_formula \n",
    "draft: true\n",
    "---"
   ]
  },
  {
   "cell_type": "markdown",
   "id": "f12b0612",
   "metadata": {
    "vscode": {
     "languageId": "plaintext"
    }
   },
   "source": [
    "$$\\text{Parameters in billions}   \\times  \\, \\text{Floating Point(FP) Precision of eachparameter in byte} =  \\, \\text{Model Memory Size in GB}$$ \n",
    "\n",
    "\n",
    "$$\\text{Total Memory taken by the model} = \\text{Model Memory Size in GB} + \\text{Memory for other components of the model}$$"
   ]
  },
  {
   "cell_type": "code",
   "execution_count": null,
   "id": "9edc6a2b",
   "metadata": {},
   "outputs": [],
   "source": []
  }
 ],
 "metadata": {
  "kernelspec": {
   "display_name": "Python 3 (ipykernel)",
   "language": "python",
   "name": "python3"
  },
  "language_info": {
   "codemirror_mode": {
    "name": "ipython",
    "version": 3
   },
   "file_extension": ".py",
   "mimetype": "text/x-python",
   "name": "python",
   "nbconvert_exporter": "python",
   "pygments_lexer": "ipython3",
   "version": "3.9.13"
  }
 },
 "nbformat": 4,
 "nbformat_minor": 5
}
