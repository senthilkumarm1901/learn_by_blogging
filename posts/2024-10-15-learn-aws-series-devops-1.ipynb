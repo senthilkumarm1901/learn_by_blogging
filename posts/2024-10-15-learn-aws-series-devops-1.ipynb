{
 "cells": [
  {
   "cell_type": "raw",
   "id": "b7da0f54",
   "metadata": {},
   "source": [
    "---\n",
    "author: Senthil Kumar\n",
    "badges: true\n",
    "branch: master\n",
    "categories:\n",
    "- AWS\n",
    "\n",
    "date: '2024-10-15'\n",
    "description: In this blog, I cover my learnings from the Coursera-AWS course on AWS Cloud Technical Essentials\n",
    "output-file: 2024-10-15-learn-aws-series-devops-1.html\n",
    "title: Learn AWS Series - Notes from my Coursera Course `AWS Cloud Technical Essentials`\n",
    "toc: true\n",
    "image: images/learn_aws_series/coursera_certificate.png\n",
    "draft: true\n",
    "---"
   ]
  },
  {
   "cell_type": "markdown",
   "id": "7eb50f99",
   "metadata": {},
   "source": [
    "# Core Agenda\n",
    "\n",
    "- The course `AWS Cloud Technical Essentials` covered from the very basics of AWS Cloud to complex topics.\n",
    "\n",
    "\n",
    "```\n",
    "I. Introduction to Global AWS Infrastructure Services\n",
    "II. Security Services in AWS\n",
    "- The basics: Shared Responsibility Model\n",
    "- User: Root user, IAM User, IAM Identity Center, Federated User\n",
    "III. Compute Services in AWS\n",
    "IV. Networking Services in AWS\n",
    "V. Storage Services in AWS\n",
    "VI. Database Services in AWS\n",
    "VII. Monitoring Services in AWS\n",
    "VIII. Optimization Services in AWS\n",
    "```"
   ]
  },
  {
   "cell_type": "code",
   "execution_count": null,
   "id": "c1c6675e",
   "metadata": {},
   "outputs": [],
   "source": []
  }
 ],
 "metadata": {
  "kernelspec": {
   "display_name": "Python 3 (ipykernel)",
   "language": "python",
   "name": "python3"
  },
  "language_info": {
   "codemirror_mode": {
    "name": "ipython",
    "version": 3
   },
   "file_extension": ".py",
   "mimetype": "text/x-python",
   "name": "python",
   "nbconvert_exporter": "python",
   "pygments_lexer": "ipython3",
   "version": "3.9.13"
  }
 },
 "nbformat": 4,
 "nbformat_minor": 5
}
