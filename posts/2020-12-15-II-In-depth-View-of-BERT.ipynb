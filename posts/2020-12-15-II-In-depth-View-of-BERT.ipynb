{
 "cells": [
  {
   "cell_type": "raw",
   "metadata": {},
   "source": [
    "---\n",
    "author: Senthil Kumar\n",
    "badges: true\n",
    "branch: master\n",
    "categories:\n",
    "- NLP\n",
    "- Transformers\n",
    "date: '2020-12-15'\n",
    "description: Part 2 - A deeper technical view of the BERT architecture\n",
    "title: An In-depth Technical View on BERT\n",
    "toc: false\n",
    "image: images/BERT/BERT_Enc_Dec_Architecture_2.png\n",
    "---\n"
   ]
  },
  {
   "cell_type": "raw",
   "id": "3b84c011",
   "metadata": {},
   "source": [
    "```{=html}\n",
    "<iframe width=\"1300\" height=\"1200\" src=\"https://senthilkumarm1901.github.io/UnderstandingTransferLearning4NLP/docs/BERT_indepth_view.html\" title=\"BERT Overview\"></iframe>\n",
    "```"
   ]
  },
  {
   "cell_type": "markdown",
   "id": "ac99a60b",
   "metadata": {},
   "source": [
    "<hr>"
   ]
  }
 ],
 "metadata": {
  "kernelspec": {
   "display_name": "tf_macos",
   "language": "python",
   "name": "tf_macos"
  },
  "language_info": {
   "codemirror_mode": {
    "name": "ipython",
    "version": 3
   },
   "file_extension": ".py",
   "mimetype": "text/x-python",
   "name": "python",
   "nbconvert_exporter": "python",
   "pygments_lexer": "ipython3",
   "version": "3.9.13"
  }
 },
 "nbformat": 4,
 "nbformat_minor": 5
}
