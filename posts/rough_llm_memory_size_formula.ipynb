{
 "cells": [
  {
   "cell_type": "markdown",
   "id": "689b1e38",
   "metadata": {},
   "source": [
    "\n",
    "$$\\text{Parameters in billions}   \\times  \\, \\text{Floating Point(FP) Precision of each parameter in byte} =  \\, \\text{Model Memory Size in GB}$$ \n",
    "\n",
    "\n",
    "$$\\text{Total Memory taken by the model} = \\text{Model Memory Size in GB} + \\text{Memory for other components of the model}$$"
   ]
  }
 ],
 "metadata": {
  "kernelspec": {
   "display_name": "Python 3 (ipykernel)",
   "language": "python",
   "name": "python3"
  },
  "language_info": {
   "codemirror_mode": {
    "name": "ipython",
    "version": 3
   },
   "file_extension": ".py",
   "mimetype": "text/x-python",
   "name": "python",
   "nbconvert_exporter": "python",
   "pygments_lexer": "ipython3",
   "version": "3.9.13"
  }
 },
 "nbformat": 4,
 "nbformat_minor": 5
}
