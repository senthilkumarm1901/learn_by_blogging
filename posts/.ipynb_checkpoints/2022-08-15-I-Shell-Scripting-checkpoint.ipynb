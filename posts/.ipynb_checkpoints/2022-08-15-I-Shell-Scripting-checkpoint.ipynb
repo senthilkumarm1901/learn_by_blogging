{
 "cells": [
  {
   "cell_type": "raw",
   "id": "ad53a55c",
   "metadata": {},
   "source": [
    "---\n",
    "author: Senthil Kumar\n",
    "badges: true\n",
    "branch: master\n",
    "categories:\n",
    "- Coding\n",
    "- Bash Scripting\n",
    "date: '2022-08-03'\n",
    "description: A quick guide manual to level up your understanding and use of Bash Scripting\n",
    "image: images/bash_scripting/example_shell_script.png\n",
    "output-file: 2022-08-03-I-Shell-Scripting.html\n",
    "title: A Practical Guide to Bash Scripting\n",
    "toc: true\n",
    "---"
   ]
  },
  {
   "cell_type": "markdown",
   "id": "26e00925",
   "metadata": {},
   "source": [
    "- This is a quick guide manual to advance your understanding of Bash Scripting for real-world application, beyond just one-liner commands. \n",
    "- To solve specific real-world use cases, like the below need, we will be writing a combination of the commands in a single line (in Section III)\n",
    "- You will see how to write interactive shell file scripts (in Section IV)"
   ]
  },
  {
   "cell_type": "markdown",
   "id": "267d4d11",
   "metadata": {},
   "source": [
    "![](images/bash_scripting/article_image_cropped.png)"
   ]
  },
  {
   "cell_type": "markdown",
   "id": "ac99a60b",
   "metadata": {},
   "source": [
    "<hr>"
   ]
  },
  {
   "cell_type": "markdown",
   "id": "712dfd00",
   "metadata": {},
   "source": [
    "# What you will see in this post?"
   ]
  },
  {
   "cell_type": "markdown",
   "id": "fb0b67ba",
   "metadata": {},
   "source": [
    "- I. Why Bash Scripting?\n",
    "- II. A Brief Intro Bash Scripting\n",
    "- III. A Selected List of Single-line Recipes from personal experience\n",
    "- IV. Shell Scripting Files at a glance\n",
    "- V. Create your own shell commands!\n",
    "- VI. Understanding Redirecting of Output and Errors\n",
    "- VII. Summary\n",
    "\n",
    "For covering III, IV, and V in a more practical way, I have chosen a directory in my local system titled `text_datasets`."
   ]
  },
  {
   "cell_type": "markdown",
   "id": "c720c266",
   "metadata": {},
   "source": [
    "# I. Why Bash Scripting?\n",
    "\n",
    "> Arguably, Shell Scripting is the **often untaught foundation** to the most important skills in software engineering"
   ]
  },
  {
   "cell_type": "markdown",
   "id": "517ae453",
   "metadata": {},
   "source": [
    "- Why you may ask? You may have seen `Shell Commands` in\n",
    "    - Git\n",
    "    - Makefile, VirtualEnv or Any Software Packaging\n",
    "    - Docker, Kubernetes\n",
    "    - Server Administration\n",
    "    - Application Deployment\n",
    "    - Cloud Computing &\n",
    "    - many more places ..."
   ]
  },
  {
   "cell_type": "markdown",
   "id": "9fe314ec",
   "metadata": {},
   "source": [
    "- It is often the easiest application to ship, because it directly works with the Kernerl that works with hardware"
   ]
  },
  {
   "cell_type": "markdown",
   "id": "e9ae237b",
   "metadata": {},
   "source": [
    "![](https://homepages.uc.edu/~thomam/Intro_Unix_Text/Images/OS_donut.png)\n",
    "\n",
    "Image Source: https://homepages.uc.edu/~thomam/Intro_Unix_Text/OS_Organization.html\n"
   ]
  },
  {
   "cell_type": "markdown",
   "id": "afccc9aa",
   "metadata": {},
   "source": [
    "## II. A Brief Intro to Bash Scripting"
   ]
  },
  {
   "cell_type": "markdown",
   "id": "7945466d",
   "metadata": {},
   "source": [
    "###  What is a **Linux CLI/Shell Terminal**\n",
    "- A non-graphical text-based interface to the Kernel \n",
    "- A program to access the features and functionalities offered by kernel\n",
    "- How instructions flow: Hardware <-- Kernel <-- Shell/Terminal <-- Command Libraries and Applications (like mail) <-- User"
   ]
  },
  {
   "cell_type": "markdown",
   "id": "cc4c920c",
   "metadata": {},
   "source": [
    "### What is a Shell or Bash?\n",
    "\n",
    "> The shell is the operating system's command-line interface (CLI) and interpreter for the set of commands that are used to communicate with the system.\n",
    "\n",
    "[source](https://www.techtarget.com/searchdatacenter/definition/shell-script)"
   ]
  },
  {
   "cell_type": "markdown",
   "id": "e44689bf",
   "metadata": {},
   "source": [
    "### **Different Types of Shell**\n",
    "- Bourne Shell developed by Steve Bourne at AT&T Labs (sh)\n",
    "- C shell (csh)\n",
    "- Korn Shell (ksh) - better version of `sh`\n",
    "- Bourne-Again Shell (bash) had features of csh and `ksh`\n",
    "- Z Shell (zsh) - A more modern shell adopted by MacOS!\n",
    "\n",
    "Sources for this section: Refer [here](https://mindmajix.com/shell-scripting-tutorial) and [here](https://homepages.uc.edu/~thomam/Intro_Unix_Text/OS_Organization.html)"
   ]
  },
  {
   "cell_type": "markdown",
   "id": "6fb27550",
   "metadata": {},
   "source": [
    "<hr>"
   ]
  },
  {
   "cell_type": "markdown",
   "id": "11dfdea5",
   "metadata": {},
   "source": [
    "# III. Common Single-line CLI Recipes from Personal Experience"
   ]
  },
  {
   "cell_type": "markdown",
   "id": "e601aa6c",
   "metadata": {},
   "source": [
    "> There are so many bash commands. Here, I attempt to cover those that I use often. Also, it is no use to learn the bash commands in silos. We often use a combination of them in practical use. \n",
    "\n",
    "> I am taking a simple example of a directory of `text_datasets` to explain the use of several bash commands. \n",
    "\n",
    "> If you wish to replicate the section III in the same manner as mine, please download from this Google Drive folder of [Xiang Zhang](https://drive.google.com/drive/u/0/folders/0Bz8a_Dbh9Qhbfll6bVpmNUtUcFdjYmF2SEpmZUZUcVNiMUw1TWN6RDV3a0JHT3kxLVhVR2M?resourcekey=0-TLwzfR2O-D2aPitmn5o9VQ) (digression alert: I landed on this dataset when reading [a post by Sebastian Raksha](https://github.com/rasbt/deeplearning-models/blob/master/pytorch_ipynb/rnn/rnn_bi_multilayer_lstm_own_csv_agnews.ipynb))\n"
   ]
  },
  {
   "cell_type": "markdown",
   "id": "d4d725df",
   "metadata": {},
   "source": [
    "### 1. `tree`\n",
    "\n",
    "- **Purpose**: Show the dir and files\n",
    "\n",
    "```bash\n",
    "senthilkumar.m@BashScripter ~/datasets % tree \n",
    ".\n",
    "└── text_datasets\n",
    "    ├── ag_news\n",
    "    │   └── ag_news_csv.tar.gz\n",
    "    ├── dbpedia\n",
    "    │   └── dbpedia_csv.tar.gz\n",
    "    └── yelp_reviews\n",
    "        └── yelp_review_full_csv.tar.gz\n",
    "\n",
    "4 directories, 3 files\n",
    "```"
   ]
  },
  {
   "cell_type": "markdown",
   "id": "5a6375e6",
   "metadata": {},
   "source": [
    "### 2. `find` + `xrgs`\n",
    "\n",
    "- **Purpose**: Find the size of the archived files\n",
    "\n",
    "\n",
    "```bash\n",
    "senthilkumar.m@BashScripter ~/datasets % find . -name \"*.tar*\" | xargs du -hs \n",
    "187M\t./text_datasets/yelp_reviews/yelp_review_full_csv.tar.gz\n",
    " 12M\t./text_datasets/ag_news/ag_news_csv.tar.gz\n",
    " 65M\t./text_datasets/dbpedia/dbpedia_csv.tar.gz\n",
    "```\n",
    "- **Want to know more?**: `man xargs`,  `man du` or `man find`"
   ]
  },
  {
   "cell_type": "markdown",
   "id": "2279f5b1",
   "metadata": {},
   "source": [
    "### 3. `tar` + `sed` + `find` with a `for` loop\n",
    "\n",
    "- **Purpose**: Unzip files across directories\n",
    "\n",
    "\n",
    "```bash\n",
    "senthilkumar.m@BashScripter ~/datasets % for f in $(find . -name \"*.tar*\" | sed -e 's|/[^/]*$||g' ); do tar -xvf \"$f\"/*.tar.* -C \"$f\"; done \n",
    "x yelp_review_full_csv/\n",
    "x yelp_review_full_csv/readme.txt\n",
    "x yelp_review_full_csv/train.csv\n",
    "x yelp_review_full_csv/test.csv\n",
    "x ag_news_csv/\n",
    "x ag_news_csv/train.csv\n",
    "x ag_news_csv/test.csv\n",
    "x ag_news_csv/classes.txt\n",
    "x ag_news_csv/readme.txt\n",
    "x dbpedia_csv/\n",
    "x dbpedia_csv/classes.txt\n",
    "x dbpedia_csv/test.csv\n",
    "x dbpedia_csv/train.csv\n",
    "x dbpedia_csv/readme.txt\n",
    "```\n",
    "- **Want to know more?**: \n",
    "    - `man tar` and \n",
    "    - search for the individual arguments on what they do using backward slash `/` `/-x | -v | -z | -f`"
   ]
  },
  {
   "cell_type": "markdown",
   "id": "86ba970b",
   "metadata": {},
   "source": [
    "### 4.  `find` + `wc` + `grep`\n",
    "\n",
    "- **Purpose**: Find number of rows in each file in each sub directory \n",
    "\n",
    "```bash\n",
    "senthilkumar.m@BashScripter ~/*/text_datasets % for f in $(find . -name \"*.csv\"); do (echo \"Number of rows in $f\" &&  wc -l \"$f\" | grep -o \"[0-9]*\" && echo); done\n",
    "Number of rows in ./yelp_reviews/yelp_review_full_csv/test.csv\n",
    "50000\n",
    "\n",
    "Number of rows in ./yelp_reviews/yelp_review_full_csv/train.csv\n",
    "650000\n",
    "\n",
    "Number of rows in ./ag_news/ag_news_csv/test.csv\n",
    "7600\n",
    "\n",
    "Number of rows in ./ag_news/ag_news_csv/train.csv\n",
    "120000\n",
    "\n",
    "Number of rows in ./dbpedia/dbpedia_csv/test.csv\n",
    "70000\n",
    "\n",
    "Number of rows in ./dbpedia/dbpedia_csv/train.csv\n",
    "560000\n",
    "```\n",
    "\n",
    "- If you are more comfortable writing in multiple lines, you can choose the format below as well. Most terminals support this\n",
    "\n",
    "```bash\n",
    "senthilkumar.m@BashScripter ~/*/text_datasets % \\\n",
    "for f in $(find . -name \"*.csv\");\n",
    "  do (echo \"Number of rows in $f\" &&  wc -l \"$f\" | grep -o \"[0-9]*\" && echo);\n",
    "  done\n",
    "```"
   ]
  },
  {
   "cell_type": "markdown",
   "id": "3ac9f1c6",
   "metadata": {},
   "source": [
    "### 5.  `find` + `head` + `sed`\n",
    "\n",
    "- **Purpose**: Find number of columns in each file in each sub directory \n",
    "\n",
    "```\n",
    "senthilkumar.m@BashScripter ~/*/text_datasets % for f in $(find . -name \"*.csv\"); do (echo \"*****$f***\": &&  echo \"Number of Columns:\" &&  head -n 1 \"$f\"| sed 's/\",\"/\"\\n\"/g' |wc -l && echo) ; done\n",
    "*****./yelp_reviews/yelp_review_full_csv/test.csv***:\n",
    "Number of Columns:\n",
    "       2\n",
    "\n",
    "*****./yelp_reviews/yelp_review_full_csv/train.csv***:\n",
    "Number of Columns:\n",
    "       2\n",
    "\n",
    "*****./ag_news/ag_news_csv/test.csv***:\n",
    "Number of Columns:\n",
    "       3\n",
    "\n",
    "*****./ag_news/ag_news_csv/train.csv***:\n",
    "Number of Columns:\n",
    "       3\n",
    "\n",
    "*****./dbpedia/dbpedia_csv/test.csv***:\n",
    "Number of Columns:\n",
    "       2\n",
    "\n",
    "*****./dbpedia/dbpedia_csv/train.csv***:\n",
    "Number of Columns:\n",
    "       2\n",
    "```"
   ]
  },
  {
   "cell_type": "markdown",
   "id": "6b0069b8",
   "metadata": {},
   "source": [
    "### 6. `find` + `head`  +  `sed` +  `nl`\n",
    "\n",
    "- **Purpose**: Human understandable display of 1 line in each file \n",
    "\n",
    "```bash\n",
    "senthilkumar.m@BashScripter ~/text_datasets % for f in $(find . -name \"*train.csv\"); do (echo && echo \"*********$f*******:\" && head -n 1 \"$f\" | sed 's/,\"/\\n\"/g' | nl); done\n",
    "\n",
    "*********./yelp_reviews/yelp_review_full_csv/train.csv*******:\n",
    "     1\t\"5\"\n",
    "     2\t\"dr. goldberg offers everything i look for in a general practitioner.  he's nice and easy to talk to without being patronizing; he's always on time in seeing his patients; ...\"\n",
    "\n",
    "*********./ag_news/ag_news_csv/train.csv*******:\n",
    "     1\t\"3\"\n",
    "     2\t\"Wall St. Bears Claw Back Into the Black (Reuters)\"\n",
    "     3\t\"Reuters - Short-sellers, Wall Street's dwindling\\band of ultra-cynics, are seeing green again.\"\n",
    "\n",
    "*********./dbpedia/dbpedia_csv/train.csv*******:\n",
    "     1\t1\n",
    "     2\t\"E. D. Abbott Ltd\"\n",
    "     3\t\" Abbott of Farnham E D Abbott Limited was a British coachbuilding business based in Farnham Surrey trading under that name from 1929. A major part of their output was under sub-contract to motor vehicle manufacturers. Their business closed in 1972.\"\n",
    "```\n",
    "\n",
    "- **Want to know more?**:\n",
    "    - `man nl`"
   ]
  },
  {
   "cell_type": "markdown",
   "id": "902606f8",
   "metadata": {},
   "source": [
    "<hr>"
   ]
  },
  {
   "cell_type": "markdown",
   "id": "790ee6eb",
   "metadata": {},
   "source": [
    "# IV. How to write Shell Files"
   ]
  },
  {
   "cell_type": "markdown",
   "id": "aee65567",
   "metadata": {},
   "source": [
    "> A shell script is a text file that contains a sequence of commands for a UNIX-based operating system.\n",
    "\n",
    "[source](https://www.techtarget.com/searchdatacenter/definition/shell-script)\n",
    "\n",
    "\n",
    "> Tip: If you are planning to use a shell file as executrable, then do `chmod u+x your_shell_script.sh` before executing the files. [more details](https://askubuntu.com/a/933155)\n"
   ]
  },
  {
   "cell_type": "markdown",
   "id": "224ddd76",
   "metadata": {},
   "source": [
    "### Shell Script with Positional arguments\n",
    "\n",
    "```bash\n",
    "senthilkumar.m@BashScripter ~/*/text_datasets % cat basic_shell_with_positional_args.sh \n",
    "#!/bin/sh\n",
    "echo \"This tutorial is not about $1. It is about $2.\" \n",
    "echo \"Did you like it? $3\"\n",
    "```\n",
    "\n",
    "\n",
    "- Shebang line at 1. `#!/bin/sh` or `#!/bin/bash` or `#!/bin/zsh` \n",
    "- Most terminal (CLI interpreters) take care of it even when not expliticity mentioned by assuming it to be `bash` or `sh`"
   ]
  },
  {
   "cell_type": "markdown",
   "id": "d0e16e59",
   "metadata": {},
   "source": [
    "\n",
    "\n",
    "```bash\n",
    "sh basic_shell.sh Linux \"Shell Scripting\" No\n",
    "\n",
    "# ./basic_shell.sh\n",
    "\n",
    "This tutorial is not about Linux. It is about Shell Scripting.\n",
    "Did you like it? No\n",
    "```\n",
    "\n",
    "<hr>"
   ]
  },
  {
   "cell_type": "markdown",
   "id": "f4152c03",
   "metadata": {},
   "source": [
    "### Shell Script with one-letter keyword arguments and functions\n",
    "\n",
    "\n",
    "- Things to note below: \n",
    "    - `getopts`, `grep`, `OPTARG`, `tr`,  `[:upper:]` or `[:lower:]` or `[:space:]` \n",
    "    - `while` loop\n",
    "    - `if ... else ... fi`\n",
    "    - how we pass the named arguments from outside the shell file to the bash function `receive_arguments()`\n",
    "\n",
    "\n",
    "```bash\n",
    "senthilkumar.m@BashScripter ~/*/text_datasets % cat shell_w_getopts_args.sh\n",
    "\n",
    "#!/bin/bash\n",
    "receive_one_letter_arguments(){\n",
    "    while getopts \":n:a:l:\" opt;\n",
    "    do \n",
    "        case ${opt} in\n",
    "            n) NOT=${OPTARG};;\n",
    "                a) ABOUT=${OPTARG} ;;\n",
    "            l) LIKE=${OPTARG} ;;\n",
    "        esac\n",
    "    done\n",
    "}\n",
    "\n",
    "what_is_the_tutorial_about(){\n",
    "    echo \"This tutorial is not about $NOT. It is about $ABOUT.\"\n",
    "}\n",
    "\n",
    "like_or_not(){\n",
    "    if [ $(echo $LIKE | grep -i -o \"^N\" | tr '[:upper:]' '[:lower:]') = 'n' ]; then\n",
    "        echo \"Did you like it? $LIKE\"\n",
    "        echo \"What Shell Scripting man !?!\"\n",
    "        echo \"Who uses such 40+ years old lang\"\n",
    "    else\n",
    "        echo \"Did you like it? $LIKE\"\n",
    "    fi\n",
    "}\n",
    "\n",
    "echo \"**********************\"\n",
    "echo \"Function 1: receiving the arguments from user using 'getopts', 'opt' and 'OPTARG' in a 'while' loop\"\n",
    "receive_one_letter_arguments \"$@\"\n",
    "echo \"The arguments are \\$ABOUT=$ABOUT \\$NOT=$NOT \\$LIKE=$LIKE\"\n",
    "echo \"#################\"\n",
    "echo \"Function 2: what is this tutorial about ?\"\n",
    "what_is_the_tutorial_about\n",
    "echo \"#################\"\n",
    "echo \"Function 3: Now, tell me the truth ...\"\n",
    "like_or_not\n",
    "echo \"**********************\"\n",
    "```\n"
   ]
  },
  {
   "cell_type": "markdown",
   "id": "fb71becc",
   "metadata": {},
   "source": [
    "\n",
    "```bash\n",
    "senthilkumar.m@BashScripter ~/text_datasets % sh shell_w_getopts_args.sh \\\n",
    "-n Linux \\\n",
    "-a \"Shell Scripting\" \\\n",
    "-l No\n",
    "\n",
    "**********************\n",
    "Function 1: receiving the arguments from user using 'getopts', 'opt' and 'OPTARG' in a 'while' loop\n",
    "The arguments are $ABOUT=Shell Scripting $NOT=Linux $LIKE=No\n",
    "#################\n",
    "Function 2: what is this tutorial about ?\n",
    "This tutorial is not about Linux. It is about Shell Scripting.\n",
    "#################\n",
    "Function 3: Now, tell me the truth ...\n",
    "Did you like it? No\n",
    "What Shell Scripting man !?!\n",
    "Who uses such 40+ years old lang\n",
    "**********************\n",
    "```"
   ]
  },
  {
   "cell_type": "markdown",
   "id": "0234849d",
   "metadata": {},
   "source": [
    "### Shell Script with word keyword arguments\n",
    "\n",
    "- We are about to achieve the same output as above `one-letter argument` approach \n",
    "- But the script will be a lot simpler with keyword arguments\n",
    "- **Utilities** used: `{#A_VARIABLE_NAME}` to determine length of the variable, `grep`, `tr`,  `[:upper:]` or `[:lower:]` or `[:space:]` \n",
    "\n",
    "```bash\n",
    "#!/bin/bash\n",
    "\n",
    "receive_word_arguments(){\n",
    "    for ARGUMENT in \"$@\"\n",
    "    do\n",
    "        KEY_INITIAL=$(echo $ARGUMENT | cut -f1 -d=)\n",
    "        KEY_LENGTH=${#KEY_INITIAL}\n",
    "        KEY=${KEY_INITIAL:2}\n",
    "        VALUE=\"${ARGUMENT:$KEY_LENGTH+1}\"\n",
    "        export \"$KEY\"=\"$VALUE\"\n",
    "        # echo \"$KEY=$VALUE\"\n",
    "    done\n",
    "}\n",
    "\n",
    "what_is_the_tutorial_about(){\n",
    "    echo \"This tutorial is not about $NOT. It is about $ABOUT.\"\n",
    "}\n",
    "\n",
    "like_or_not(){\n",
    "    if [ $(echo $LIKE | grep -i -o \"^N\" | tr '[:upper:]' '[:lower:]') = 'n' ]; then\n",
    "        echo \"Did you like it? $LIKE\"\n",
    "        echo \"What Shell Scripting man !?!\"\n",
    "        echo \"Who uses such 40+ years old lang\"\n",
    "    else\n",
    "        echo \"Did you like it? $LIKE\"\n",
    "    fi\n",
    "}\n",
    "\n",
    "echo \"**********************\"\n",
    "echo \"Function 1: receiving the word arguments using the indices of the input {#A_VARIABLE_NAME}\"\n",
    "receive_word_arguments \"$@\"\n",
    "echo \"The arguments are \\$ABOUT=$ABOUT \\$NOT=$NOT \\$LIKE=$LIKE\"\n",
    "echo \"#################\"\n",
    "echo \"Function 2: what is this tutorial about ?\"\n",
    "what_is_the_tutorial_about\n",
    "echo \"#################\"\n",
    "echo \"Function 3: Now, tell me the truth ...\"\n",
    "like_or_not\n",
    "echo \"**********************\"\n",
    "```\n",
    "\n",
    "<hr>"
   ]
  },
  {
   "cell_type": "markdown",
   "id": "746cff9e",
   "metadata": {},
   "source": [
    "\n",
    "```bash\n",
    "senthilkumar.m@BashScripter ~/text_datasets % sh shell_w_full_kw_args.sh \\\n",
    "--NOT=Linux \\\n",
    "--ABOUT=\"Shell Scripting\" \\\n",
    "--LIKE=No\n",
    "\n",
    "**********************\n",
    "Function 1: receiving the word arguments using the indices of the input {#A_VARIABLE_NAME}\n",
    "The arguments are $ABOUT=Shell Scripting $NOT=Linux $LIKE=No\n",
    "#################\n",
    "Function 2: what is this tutorial about ?\n",
    "This tutorial is not about Linux. It is about Shell Scripting.\n",
    "#################\n",
    "Function 3: Now, tell me the truth ...\n",
    "Did you like it? No\n",
    "What Shell Scripting man !?!\n",
    "Who uses such 40+ years old lang\n",
    "**********************\n",
    "```"
   ]
  },
  {
   "cell_type": "markdown",
   "id": "d7b04b86",
   "metadata": {},
   "source": [
    "<hr>"
   ]
  },
  {
   "cell_type": "markdown",
   "id": "6061ff1f",
   "metadata": {},
   "source": [
    "# V. Create your own shell commands!\n",
    "\n",
    "- 1. Create your `shell_file.sh` which is going to act as shell_command. Make it executable:`chmod u+x shell_file.sh`\n",
    "- 2. Add the shell_file location to $PATH in `~/.bashrc` (or if you are using MacOS like me `~/.zshrc` | [source](https://superuser.com/a/1589778))\n",
    "- 3. source the `~/.bashrc` or `~/.zshrc`. Restart your terminal. \n",
    "- 4. Run the `shell_file.sh` as you would a command | `shell_file arg1 arg2`"
   ]
  },
  {
   "cell_type": "markdown",
   "id": "db15fd13",
   "metadata": {},
   "source": [
    "## Example 1: Convert a `counting_files_recursively.sh` shell file into a command `counting_files_recursively`\n",
    "\n",
    "```bash\n",
    "#!/bin/bash\n",
    "\n",
    "count_files() {\n",
    "    file_count=$(find \"$1\" -type f | wc -l)\n",
    "    echo \"Local Directory: $1\"\n",
    "    echo \"Number of files: $file_count\"\n",
    "    echo\n",
    "}\n",
    "\n",
    "# Specify the root directory to start counting files recursively\n",
    "root_directory=$1\n",
    "\n",
    "# Call the function for each directory within the root directory\n",
    "for local_directory in \"$root_directory\"/*; \n",
    "do\n",
    "    if [ -d \"$local_directory\" ]; then\n",
    "        count_files \"$local_directory\"\n",
    "    fi\n",
    "done\n",
    "```\n",
    "\n",
    "```bash\n",
    "senthilkumar.m@BashScripter ~/text_datasets % echo \"alias counting_files_recursively=/path/to/counting_files_recursively.sh\" >> ~/.zshrc && source ~/.zshrc\n",
    "senthilkumar.m@BashScripter ~/text_datasets % counting_files_recursively ~/text_datasets\n",
    "\n",
    "Local Directory: ~/text_datasets/dbpedia\n",
    "Number of files:        7\n",
    "\n",
    "Local Directory: ~/text_datasets/shell_file_in_path\n",
    "Number of files:        1\n",
    "\n",
    "Local Directory: ~/text_datasets/yelp_reviews\n",
    "Number of files:        6\n",
    "```"
   ]
  },
  {
   "cell_type": "markdown",
   "id": "b2cc07b6",
   "metadata": {},
   "source": [
    "## Example 2: Simpler one-line alias command. Converting `ls -al` into `ls_all`\n",
    "    \n",
    "```bash\n",
    "senthilkumar.m@BashScripter ~/text_datasets % echo \"alias ls_all=ls -al\" >> ~/.zshrc && source ~/.zshrc\n",
    "senthilkumar.m@BashScripter ~/text_datasets % ls_all ~/text_datasets\n",
    "```"
   ]
  },
  {
   "cell_type": "markdown",
   "id": "c7e18ee0",
   "metadata": {},
   "source": [
    "<hr>"
   ]
  },
  {
   "cell_type": "markdown",
   "id": "fa2bbf49",
   "metadata": {},
   "source": [
    "# VI. Understanding Redirects in Shell Scripting\n",
    "\n",
    "## The Typical Ways \n",
    "\n",
    "> `>`  (redirect afresh) , `>>` (redirect and append) and `|` (pipe\n",
    "\n",
    "\n",
    "- By now you may have got familiarized with the standard ways of redirecting outputs - `>` and `>>` and `|` \n",
    "\n",
    "```bash\n",
    "# step 1\n",
    "/some/local/path % echo \"Hello, world!\" > output.txt\n",
    "/some/local/path % cat output.txt\n",
    "\n",
    "Hello, world!\n",
    "\n",
    "# step 2\n",
    "/some/local/path % echo \"Additional text\" >> output.txt\n",
    "/some/local/path % cat output.txt\n",
    "\n",
    "Hello, world!\n",
    "Additional text\n",
    "\n",
    "# step 3\n",
    "/some/local/path % echo \"Again, Hello, world!\" > output.txt\n",
    "/some/local/path % cat output.txt\n",
    "\n",
    "\n",
    "Again, Hello, world!\n",
    "\n",
    "# step 4\n",
    "/some/local/path % echo \"Hello, world!\"  | wc -c \n",
    "    13\n",
    "```\n",
    "- Note: In the above bash example, by step 3, the `output.txt` gets rewritten. \n",
    "\n",
    "<hr>\n",
    "\n",
    "## Additional Aids: The File Descriptors (0, 1, and 2)\n",
    "\n",
    "> A file descriptor is a descriptor OR unique identifier OR a index of the `files` that are opened when a shell file is run. \n",
    "\n",
    "- A shell file opens 3 files with the file descriptors 0, 1, and 2\n",
    "\n",
    "```\n",
    "0 (stdin): Standard Input\n",
    "1 (stdout): Standard Output\n",
    "2 (stderr): Standard Error\n",
    "```\n",
    "\n",
    "```bash\n",
    "/some/local/path % cat simple_bash_script_for_reading_stdin.bash\n",
    "\n",
    "#!/bin/bash\n",
    "\n",
    "# Variable to store all lines\n",
    "all_lines=\"\"\n",
    "\n",
    "# Read each line from stdin and append to the variable\n",
    "while IFS= read -r line; do\n",
    "    # Process each line (you can replace this with your own logic)\n",
    "    echo \"Read line: $line\"\n",
    "    \n",
    "    # Append the line to the variable\n",
    "    all_lines=\"$all_lines$line\"\n",
    "done\n",
    "\n",
    "/some/local/path % cat file_input.txt\n",
    "\n",
    "Hello,\n",
    "This is an example text file.\n",
    "It contains multiple lines.\n",
    "Each line is processed by the program script.\n",
    "You can replace this content with your own data.\n",
    "\n",
    "/some/local/path % bash simple_bash_script_for_reading_stdin.bash < file_input.txt > file_output.txt\n",
    "\n",
    "/some/local/path % cat file_output.txt\n",
    "\n",
    "Read line: Hello,\n",
    "Read line: This is an example text file.\n",
    "Read line: It contains multiple lines.\n",
    "Read line: Each line is processed by the program script.\n",
    "Read line: You can replace this content with your own data.\n",
    "```\n",
    "\n",
    "- In the above example, `program < file_input > file_output` structure is followed. \n",
    "- `file_input.txt` was the stdin (0)\n",
    "- `file_output.txt` was the standard output (1)\n",
    "- If I introduce some error in the `a_simple_python_file_with_error.py`, we can capture error alone separately\n",
    "\n",
    "```bash\n",
    "/some/local/path % cat a_simple_python_file_with_error.py\n",
    "\n",
    "print(\"output line 1\")\n",
    "print(\"output line 2\")\n",
    "\n",
    "a=b+1 #this will throw an error as `b` is not defined\n",
    "\n",
    "\n",
    "/some/local/path % python a_simple_python_file_with_error.py 2>error.txt 1>output.txt\n",
    "\n",
    "/some/local/path % cat error.txt \n",
    "\n",
    "Traceback (most recent call last):\n",
    "  File \"/a_simple_python_file_with_error.py\", line 4, in <module>\n",
    "    a=b+1 #this will throw an error as `b` is not defined\n",
    "NameError: name 'b' is not defined\n",
    "\n",
    "\n",
    "/some/local/path % cat output.txt\n",
    "\n",
    "output line 1\n",
    "output line 2\n",
    "```\n",
    "\n",
    "- if you want the error and the output to be redirected to the same file, you can use `>&` or `2>&1`\n",
    "\n",
    "\n",
    "```bash\n",
    "/some/local/path % python a_simple_python_file_with_error.py > output_with_error.txt 2>&1\n",
    "\n",
    "# Or the following also works\n",
    "# /some/local/path %  python a_simple_python_file_with_error.py >& output_with_error.txt\n",
    "\n",
    "/some/local/path % cat output_with_error.txt\n",
    "\n",
    "output line 1\n",
    "output line 2\n",
    "Traceback (most recent call last):\n",
    "  File \"/a_simple_python_file_with_error.py\", line 4, in <module>\n",
    "    a=b+1 #this will throw an error as `b` is not defined\n",
    "NameError: name 'b' is not defined\n",
    "```"
   ]
  },
  {
   "cell_type": "markdown",
   "id": "3bb246d6",
   "metadata": {},
   "source": [
    "<hr>"
   ]
  },
  {
   "cell_type": "markdown",
   "id": "98b5e86d",
   "metadata": {},
   "source": [
    "## `/dev/null`\n",
    "\n",
    "If you are wondering, how to ignore some outputs or errors from being printed or displayed, redirecting them to `/dev/null` is the answer\n",
    "\n",
    "```bash\n",
    "# ignore both stderr (2) and stdout (1)\n",
    "/some/local/path % python a_simple_python_file_with_error.py > /dev/null 2>&1\n",
    "\n",
    "# ignore the stderr (2)\n",
    "/some/local/path % python a_simple_python_file_with_error.py 2>/dev/null\n",
    "output line 1\n",
    "output line 2\n",
    "\n",
    "# ignore only the stdout (1)\n",
    "/some/local/path % python a_simple_python_file_with_error.py 1>/dev/null\n",
    "\n",
    "Traceback (most recent call last):\n",
    "  File \"/a_simple_python_file_with_error.py\", line 4, in <module>\n",
    "    a=b+1 #this will throw an error as `b` is not defined\n",
    "NameError: name 'b' is not defined\n",
    "```"
   ]
  },
  {
   "cell_type": "markdown",
   "id": "2b4e340d",
   "metadata": {},
   "source": [
    "# VII. Summary"
   ]
  },
  {
   "cell_type": "markdown",
   "id": "41b92c04",
   "metadata": {},
   "source": [
    "- In this post, we have seen \n",
    "    - how to use a combination of shell commands in a single line, \n",
    "    - how to write shell script files with arguments passed to it and\n",
    "    - how to create your own shell commands  "
   ]
  },
  {
   "cell_type": "markdown",
   "id": "0052a955",
   "metadata": {},
   "source": [
    "## Concluding Remarks ..."
   ]
  },
  {
   "cell_type": "markdown",
   "id": "2d175b83",
   "metadata": {},
   "source": [
    "### **Why is Shell Scripting so hard?**\n",
    "- Complexity compounds | Commands like `awk` and `sed` are progamming lang on their own\n",
    "- Every quote, space and stringed together commands have meaning\n",
    "- Less errors | More unexpected behaviour"
   ]
  },
  {
   "cell_type": "markdown",
   "id": "8385ab14",
   "metadata": {},
   "source": [
    "### **Where is Shell Scripting most useful?**\n",
    "- When the commands are only 5-20 lines long\n",
    "    - Small repetitive tasks. E.g. For small needs involving AWS, small scripting jobs with `jmespath`\n",
    "\n",
    "```\n",
    "for f in *.csv\n",
    "do\n",
    "     echo $f...\n",
    "     some transformation\n",
    "done\n",
    "```\n",
    "\n",
    "- A pure shell script written 15-20 years ago could still yield the same result today\n",
    "- Easier than packaging a Python application | Build process is smaller\n",
    "- Shell in combination with other language is more useful\n"
   ]
  },
  {
   "cell_type": "markdown",
   "id": "e2fd1f2d",
   "metadata": {},
   "source": [
    "### **Where Shell Scripting can be avoided?**\n",
    "- Co-development is hard. Interpretability is tough.\n",
    "- Errors do not always stop your flow. It will go to the next command\n",
    "- When the shell script becomes very complicated, better to go with your programming lang of choice"
   ]
  },
  {
   "cell_type": "markdown",
   "id": "ddd786ef",
   "metadata": {},
   "source": [
    "> Unequivocally, Bash Scripting is definitely a useful skill to know in your toolbox "
   ]
  }
 ],
 "metadata": {
  "kernelspec": {
   "display_name": "Python 3 (ipykernel)",
   "language": "python",
   "name": "python3"
  },
  "language_info": {
   "codemirror_mode": {
    "name": "ipython",
    "version": 3
   },
   "file_extension": ".py",
   "mimetype": "text/x-python",
   "name": "python",
   "nbconvert_exporter": "python",
   "pygments_lexer": "ipython3",
   "version": "3.9.13"
  },
  "vscode": {
   "interpreter": {
    "hash": "98c3ded5f4c982d767ead9cded27e95b53d0df25404a508cedfb98865b9710c5"
   }
  }
 },
 "nbformat": 4,
 "nbformat_minor": 5
}
