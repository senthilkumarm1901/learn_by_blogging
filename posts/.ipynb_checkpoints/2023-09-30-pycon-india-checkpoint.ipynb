{
 "cells": [
  {
   "cell_type": "raw",
   "id": "0b6e29c7",
   "metadata": {},
   "source": [
    "---\n",
    "author: Senthil Kumar\n",
    "badges: true\n",
    "branch: master\n",
    "categories:\n",
    "- AWS\n",
    "- AWS Serverless\n",
    "- AWS CLI\n",
    "- DevOps\n",
    "\n",
    "date: '2023-09-30'\n",
    "description: This blog was originally presented in PyCon India 2023 Open Spaces Talk on behalf of Toyota Connected India\n",
    "output-file: 2023-09-30-pycon-india.html\n",
    "title: Build a Replicable Serverless Python NLP App from Scratch\n",
    "toc: true\n",
    "image: images/pycon/aws_serverless.png\n",
    "---"
   ]
  },
  {
   "cell_type": "markdown",
   "id": "7873e178",
   "metadata": {},
   "source": [
    "## The presentation is hosted in Toyota Connected India GitHub Organization:\n",
    "\n",
    "[PyCon’23 OpenSpaces Talk](https://toyota-connected-india.github.io/serverless_nlp_app/notebook/serverless_nlp_python_app_slides.slides.html#/)\n",
    "\n",
    "![](images/pycon/first_page.png)\n"
   ]
  },
  {
   "cell_type": "markdown",
   "id": "f658d8ea",
   "metadata": {},
   "source": [
    "## The repo is hosted here:\n",
    "[github.com/Toyota-Connected-India/serverless_nlp_app](https://github.com/Toyota-Connected-India/serverless_nlp_app)"
   ]
  },
  {
   "cell_type": "markdown",
   "id": "8e45041d",
   "metadata": {},
   "source": [
    "![](images/pycon/repo_location.png)"
   ]
  }
 ],
 "metadata": {
  "kernelspec": {
   "display_name": "Python 3 (ipykernel)",
   "language": "python",
   "name": "python3"
  },
  "language_info": {
   "codemirror_mode": {
    "name": "ipython",
    "version": 3
   },
   "file_extension": ".py",
   "mimetype": "text/x-python",
   "name": "python",
   "nbconvert_exporter": "python",
   "pygments_lexer": "ipython3",
   "version": "3.9.13"
  }
 },
 "nbformat": 4,
 "nbformat_minor": 5
}
