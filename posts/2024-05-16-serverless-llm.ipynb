{
 "cells": [
  {
   "cell_type": "raw",
   "id": "327946cc",
   "metadata": {},
   "source": [
    "---\n",
    "author: Senthil Kumar\n",
    "badges: true\n",
    "branch: master\n",
    "categories:\n",
    "- LLM\n",
    "- Serverless\n",
    "- AWS\n",
    "- NLP\n",
    "\n",
    "date: '2024-05-16'\n",
    "description: This blog covers 4 Serverless LLM Recipes useful from the point of view of learning and building PoCs\n",
    "output-file: 2024-05-16-serverless-llm.html\n",
    "title: Building Frugal Open Source LLM Applications using Serverless Cloud\n",
    "toc: true\n",
    "image: images/serverless_llm/Serverless_LLM.png\n",
    "---"
   ]
  },
  {
   "cell_type": "markdown",
   "id": "78dd908c",
   "metadata": {},
   "source": [
    "# Motivation\n",
    "\n",
    "- Want to build LLM applications? \n",
    "- Wondering what is the most cost effective way to learn and build them in cloud?\n",
    "\n",
    "> Think OpenSource LLM. <br>\n",
    "> Think Serverless"
   ]
  },
  {
   "cell_type": "markdown",
   "id": "79e9f265",
   "metadata": {},
   "source": [
    "<hr>"
   ]
  },
  {
   "cell_type": "markdown",
   "id": "300f08a9",
   "metadata": {},
   "source": [
    "# Purpose of this Presentation\n",
    "\n",
    "Let us see how the intermingling of 2 concepts - Serverless + Open Source LLMs - help you build demo-able PoC LLM applications, at minimal cost. \n",
    "\n",
    "\n",
    "```\n",
    "#LLMOps\n",
    "#MLOps\n",
    "#AWSLambda\n",
    "#LLMonServerless\n",
    "#OpenSourceLLMs\n",
    "```"
   ]
  },
  {
   "cell_type": "markdown",
   "id": "28e3179d",
   "metadata": {},
   "source": [
    "<hr>"
   ]
  },
  {
   "cell_type": "markdown",
   "id": "2d828bd0",
   "metadata": {},
   "source": [
    "# LLM Recipes we are discussing today\n",
    "\n",
    "- 1) A Lambda to run inference on a purpose-built Transformer ML Model\n",
    "     - A Lambda to **Anonymize Text** using a Huggingface BERT Transformer-based Language Model for PII De-identification \n",
    "- 2) A Lambda to run a **Small Language Model** like Microsoft's Phi3\n",
    "- 3) A Lambda to run a **RAG** Implementation on a Small Language Model like Phi3 \n",
    "- 4) A Lambda to invoke **a LLM like Mistral 7B Instruct** that is running in a SageMaker Endpoint"
   ]
  },
  {
   "cell_type": "markdown",
   "id": "7bf2abd1",
   "metadata": {},
   "source": [
    "<hr>"
   ]
  },
  {
   "cell_type": "markdown",
   "id": "31d59b3b",
   "metadata": {},
   "source": [
    "## 1. Lambda to Anonymize Text\n",
    "\n",
    "\n",
    "- A Lambda to run inference on a purpose-built ML Model\n",
    "     - This lambda can **Anonymize Text** \n",
    "     - using a Huggingface BERT Transformer-based Fine-tuned Model"
   ]
  },
  {
   "cell_type": "markdown",
   "id": "12635a4a",
   "metadata": {},
   "source": [
    "### 1.A. Architecture"
   ]
  },
  {
   "cell_type": "markdown",
   "id": "9db9311f",
   "metadata": {},
   "source": [
    "![](./images/serverless_llm/container_lambda_with_api_gateway.png)"
   ]
  },
  {
   "cell_type": "markdown",
   "id": "d0710467",
   "metadata": {},
   "source": [
    "### 1.B. How to invoke the API Gateway Endpoint "
   ]
  },
  {
   "cell_type": "markdown",
   "id": "d249a309",
   "metadata": {},
   "source": [
    "![](./images/serverless_llm/anonymize_output.png)"
   ]
  },
  {
   "cell_type": "markdown",
   "id": "8256cdde",
   "metadata": {},
   "source": [
    "### 1.C. How the output looks in a Streamlit App"
   ]
  },
  {
   "cell_type": "markdown",
   "id": "bac55996",
   "metadata": {},
   "source": [
    "![](./images/serverless_llm/anonymize_text.png)"
   ]
  },
  {
   "cell_type": "markdown",
   "id": "79260f44",
   "metadata": {},
   "source": [
    "### 1.D. AWS CLI commands to create the Architecture\n",
    "\n",
    "<p align=\"center\">\n",
    "  <img src=\"https://github.githubassets.com/images/modules/logos_page/GitHub-Mark.png\" width=\"50\" />\n",
    "</p>\n",
    "\n",
    "\n",
    "<h5 align=\"center\"><a href=\"https://senthilkumarm1901.github.io/aws_serverless_recipes/container_lambda_anonymize_text/\">https://senthilkumarm1901.github.io/aws_serverless_recipes/container_lambda_anonymize_text/</a></h5>\n"
   ]
  },
  {
   "cell_type": "markdown",
   "id": "201c71f5",
   "metadata": {},
   "source": [
    "<hr>"
   ]
  },
  {
   "cell_type": "markdown",
   "id": "4fb121b5",
   "metadata": {},
   "source": [
    "## 2. Small Language Model\n",
    "\n",
    "- A Lambda to run a **Small Language Model** like Microsoft's Phi3"
   ]
  },
  {
   "cell_type": "markdown",
   "id": "a1a6c83e",
   "metadata": {},
   "source": [
    "### 2.A. Architecture"
   ]
  },
  {
   "cell_type": "markdown",
   "id": "52f2b899",
   "metadata": {},
   "source": [
    "![](./images/serverless_llm/container_lambda_with_api_gateway_diag2.png)"
   ]
  },
  {
   "cell_type": "markdown",
   "id": "57f87a9b",
   "metadata": {},
   "source": [
    "### 2.B. How to invoke the API Gateway Endpoint"
   ]
  },
  {
   "cell_type": "markdown",
   "id": "9736810d",
   "metadata": {},
   "source": [
    "![](./images/serverless_llm/slm_output.png)"
   ]
  },
  {
   "cell_type": "markdown",
   "id": "35bf0f79",
   "metadata": {},
   "source": [
    "### 2.C. How the output looks in a Streamlit App"
   ]
  },
  {
   "cell_type": "markdown",
   "id": "b03c999a",
   "metadata": {},
   "source": [
    "![](./images/serverless_llm/phi3_mini_llm_text_cls.png)"
   ]
  },
  {
   "cell_type": "markdown",
   "id": "b1da60bf",
   "metadata": {},
   "source": [
    "### 2.D. AWS CLI commands to create the Architecture\n",
    "\n",
    "<p align=\"center\">\n",
    "  <img src=\"https://github.githubassets.com/images/modules/logos_page/GitHub-Mark.png\" width=\"50\" />\n",
    "</p>\n",
    "\n",
    "\n",
    "<h5 align=\"center\"><a href=\"https://senthilkumarm1901.github.io/aws_serverless_recipes/container_lambda_to_run_slm/\">https://senthilkumarm1901.github.io/aws_serverless_recipes/container_lambda_to_run_slm/</a></h5>\n"
   ]
  },
  {
   "cell_type": "markdown",
   "id": "b719013f",
   "metadata": {},
   "source": [
    "<hr>"
   ]
  },
  {
   "cell_type": "markdown",
   "id": "c4e66cbe",
   "metadata": {},
   "source": [
    "## 3. Small Language Model with RAG\n",
    "\n",
    "- A Lambda to run a RAG Implementation on a Small Language Model like Phi3, that gives better context"
   ]
  },
  {
   "cell_type": "markdown",
   "id": "678921e6",
   "metadata": {},
   "source": [
    "### 3.A. A Brief Overview on RAG"
   ]
  },
  {
   "cell_type": "markdown",
   "id": "61b5702c",
   "metadata": {},
   "source": [
    "**What is RAG**, **How does RAG improve LLM Accuracy**?\n",
    "\n",
    "> Retrieval augmented generation, or RAG, is an architectural approach that can improve the efficacy of large language model (LLM) applications by leveraging custom data. \n",
    "\n",
    "Source: [Databricks](https://www.databricks.com/glossary/retrieval-augmented-generation-rag)"
   ]
  },
  {
   "cell_type": "markdown",
   "id": "a47f815c",
   "metadata": {},
   "source": [
    "**How does LLM work?**\n",
    "\n",
    "<img src=\"https://images.ctfassets.net/xjan103pcp94/3TBU5BOctjuaPyxuA8PGul/1c1b0b0129be5fef9eaef73063491582/image1.png\" width=\"500\" />\n",
    "\n",
    "Source: [AnyScale Blog: a-comprehensive-guide-for-building-rag-based-llm-applications](https://www.anyscale.com/blog/a-comprehensive-guide-for-building-rag-based-llm-applications-part-1)"
   ]
  },
  {
   "cell_type": "markdown",
   "id": "d0628232",
   "metadata": {},
   "source": [
    "**How does RAG in LLM work?**\n",
    "\n",
    "<img src=\"https://files.realpython.com/media/Screenshot_2023-10-28_at_2.05.18_PM.92b839a5972b.png\" width=\"700\" />\n",
    "\n",
    "\n",
    "Source: [RealPython Blog: chromadb-vector-database](https://realpython.com/chromadb-vector-database/)"
   ]
  },
  {
   "cell_type": "markdown",
   "id": "cb78da81",
   "metadata": {},
   "source": [
    "**How is a Vector DB created**\n",
    "\n",
    "<img src=\"./images/serverless_llm/how_is_vector_db_created.png\" width=\"700\" />\n",
    "\n",
    "Source: [AnyScale Blog: a-comprehensive-guide-for-building-rag-based-llm-applications](https://www.anyscale.com/blog/a-comprehensive-guide-for-building-rag-based-llm-applications-part-1)"
   ]
  },
  {
   "cell_type": "markdown",
   "id": "270de946",
   "metadata": {},
   "source": [
    "**Detour: If you wish to use other Vector databases**\n",
    "    \n",
    "<img src=\"https://thedataquarry.com/posts/vector-db-1/vector-db-source-available.png\" width=\"700\" />\n",
    "\n",
    "\n",
    "Source: [Data Quarry Blog: Vector databases - What makes each one different?](https://thedataquarry.com/posts/vector-db-1/)"
   ]
  },
  {
   "cell_type": "markdown",
   "id": "e167bae0",
   "metadata": {},
   "source": [
    "### 3.B. Architecture"
   ]
  },
  {
   "cell_type": "markdown",
   "id": "25e6bdbd",
   "metadata": {},
   "source": [
    "![](./images/serverless_llm/slm_with_rag_3.png)"
   ]
  },
  {
   "cell_type": "markdown",
   "id": "68a8ca5d",
   "metadata": {},
   "source": [
    "- URL we are testing on is from my favorite DL/NLP Researcher. \n",
    "    - https://magazine.sebastianraschka.com/p/understanding-large-language-models\n",
    "    \n",
    "<img src=\"./images/serverless_llm/article_we_are_using_as_context.png\" width=\"500\" />"
   ]
  },
  {
   "cell_type": "markdown",
   "id": "df42ce36",
   "metadata": {},
   "source": [
    "### 3.C. How to invoke the API Gateway Endpoint"
   ]
  },
  {
   "cell_type": "markdown",
   "id": "3af25e3e",
   "metadata": {},
   "source": [
    "![](./images/serverless_llm/rag_slm_output.png)"
   ]
  },
  {
   "cell_type": "markdown",
   "id": "eae1046a",
   "metadata": {},
   "source": [
    "### 3.D. How the output looks in a Streamlit App\n",
    "\n",
    "![](./images/serverless_llm/phi3_llm_rag_lora.png)"
   ]
  },
  {
   "cell_type": "markdown",
   "id": "bfbf6229",
   "metadata": {},
   "source": [
    "### 3.E. AWS CLI commands to create the Architecture\n",
    "\n",
    "\n",
    "<p align=\"center\">\n",
    "  <img src=\"https://github.githubassets.com/images/modules/logos_page/GitHub-Mark.png\" width=\"50\" />\n",
    "</p>\n",
    "\n",
    "\n",
    "<h5 align=\"center\"><a href=\"https://senthilkumarm1901.github.io/aws_serverless_recipes/container_lambda_to_run_rag_slm/\">https://senthilkumarm1901.github.io/aws_serverless_recipes/container_lambda_to_run_rag_slm/</a></h5>\n"
   ]
  },
  {
   "cell_type": "markdown",
   "id": "774701da",
   "metadata": {},
   "source": [
    "<hr>"
   ]
  },
  {
   "cell_type": "markdown",
   "id": "3e6233d4",
   "metadata": {},
   "source": [
    "## 4. Large Language Model  (A Partial Serverless)\n",
    "\n",
    "- A Lambda to invoke **a LLM like Mistral 7B Instruct** that is running in  SageMaker Endpoint"
   ]
  },
  {
   "cell_type": "markdown",
   "id": "d0b097e6",
   "metadata": {},
   "source": [
    "### 4.A. Architecture"
   ]
  },
  {
   "cell_type": "markdown",
   "id": "691d083f",
   "metadata": {},
   "source": [
    "![](./images/serverless_llm/lambda_to_invoke_sagemaker_endpoint.png)"
   ]
  },
  {
   "cell_type": "markdown",
   "id": "fe91b2c6",
   "metadata": {},
   "source": [
    "### 4.B. How to invoke the API Gateway Endpoint"
   ]
  },
  {
   "cell_type": "markdown",
   "id": "1c4397e7",
   "metadata": {},
   "source": [
    "![](./images/serverless_llm/sage_maker_output.png)"
   ]
  },
  {
   "cell_type": "markdown",
   "id": "de802097",
   "metadata": {},
   "source": [
    "### 4.C. AWS CLI commands to create the Architecture"
   ]
  },
  {
   "cell_type": "markdown",
   "id": "c155b243",
   "metadata": {},
   "source": [
    "<p align=\"center\">\n",
    "  <img src=\"https://github.githubassets.com/images/modules/logos_page/GitHub-Mark.png\" width=\"50\" />\n",
    "</p>\n",
    "\n",
    "\n",
    "<h5 align=\"center\"><a href=\"https://senthilkumarm1901.github.io/aws_serverless_recipes/lambda_to_invoke_a_sagemaker_endpoint/\">https://senthilkumarm1901.github.io/aws_serverless_recipes/lambda_to_invoke_a_sagemaker_endpoint/</a></h5>\n"
   ]
  },
  {
   "cell_type": "markdown",
   "id": "1ad99e30",
   "metadata": {},
   "source": [
    "<hr>"
   ]
  },
  {
   "cell_type": "markdown",
   "id": "ecfb23ad",
   "metadata": {},
   "source": [
    "## Key Challenges Faced\n",
    "\n",
    "- Serverless could mean we end up with low end cpu architecture. Hence, latency high for RAG LLM implementations\n",
    "- RAG could mean any big context. But converting the RAG context into a vector store will take time. Hence size of the context needs to be lower for \"AWS Lambda\" implementations\n",
    "- Maximum timelimit in Lambda is 15 min. API Gateway times out in 30 seconds. Hence could not be used in RAG LLM implementation"
   ]
  },
  {
   "cell_type": "markdown",
   "id": "cfe51870",
   "metadata": {},
   "source": [
    "## Key Learnings"
   ]
  },
  {
   "cell_type": "markdown",
   "id": "a2da03bc",
   "metadata": {},
   "source": [
    "**MLOps Concepts**:\n",
    "\n",
    "- Dockerizing ML Applications. What works in your machine works everywhere. More than 70% of the time building these LLM Apps is in perfecting the dockerfile. \n",
    "- The art of storing ML Models in AWS Lambda Containers. Use `cache_dir` well. Otherwise, models get downloaded everytime docker container is created\n",
    "\n",
    "\n",
    "```python\n",
    "os.environ['HF_HOME'] = '/tmp/model' #the only `write-able` dir in AWS lambda = `/tmp`\n",
    "...\n",
    "...\n",
    "your_model=\"ab-ai/pii_model\"\n",
    "tokenizer = AutoTokenizer.from_pretrained(your_model,cache_dir='/tmp/model')\n",
    "ner_model = AutoModelForTokenClassification.from_pretrained(your_model,cache_dir='/tmp/model')\n",
    "```"
   ]
  },
  {
   "cell_type": "markdown",
   "id": "b736c4be",
   "metadata": {},
   "source": [
    "\n",
    "**AWS Concepts**:\n",
    "\n",
    "- `aws cli` is your friend for shorterning deployment time, especially for Serverless\n",
    "- API Gateway is a frustratingly beautiful service. But a combination of `aws cli` and `OpenAPI` spec makes it replicable\n",
    "- AWS Lambda Costing is cheap for PoCs"
   ]
  },
  {
   "cell_type": "markdown",
   "id": "1a16b0fc",
   "metadata": {},
   "source": [
    "Finally, the **LLM Concepts**:\n",
    "\n",
    "- Frameworks: Llama cpp, LangChain, LlamaIndex, Huggingface (and so many more!)\n",
    "- SLMs work well with Reasoning but are too slow/bad for general knowledge questions\n",
    "\n",
    "> Models are like wines and these LLM frameworks are like bottles. The important thing is the wine more than the bottle. But getting used to how the wines are stored in the bottles help.  "
   ]
  },
  {
   "cell_type": "markdown",
   "id": "acc3a0d1",
   "metadata": {},
   "source": [
    "## Next Steps for the Author\n",
    "\n",
    "- Codes discussed in recipes may not be fully efficient! We can further reduce cost if run time is reduced\n",
    "\n",
    "**For Phi3-Mini-RAG**: \n",
    "\n",
    "- Try leveraging a better embedding model (apart from the ancient `Sentence Transformers`)\n",
    "- What about other vector databases? - Like Pinecone Milvus (we have used opensource Chromodb) here\n",
    "- Ideas to explore: Rust for LLMs. Rust for Lambda. \n",
    "\n",
    "Sources: \n",
    "- Rust ML Minimalist framework - Candle: https://github.com/huggingface/candle\n",
    "- Rust for LLM - https://github.com/rustformers/llm\n",
    "- Rust for AWS Lambda - https://www.youtube.com/watch?v=He4inXmMZZI"
   ]
  },
  {
   "cell_type": "markdown",
   "id": "2f63e719",
   "metadata": {},
   "source": [
    "<p align=\"center\">\n",
    "  <img src=\"https://github.githubassets.com/images/modules/logos_page/GitHub-Mark.png\" width=\"50\" />\n",
    "</p>\n",
    "\n",
    "\n",
    "<h5 align=\"center\"><a href=\"https://github.com/senthilkumarm1901/serverless_nlp_app\">github.com/senthilkumarm1901/serverless_nlp_app</a></h5>"
   ]
  },
  {
   "cell_type": "markdown",
   "id": "61bdbbab",
   "metadata": {},
   "source": [
    "<h5 align=\"center\"> Thank You </h5>"
   ]
  }
 ],
 "metadata": {
  "kernelspec": {
   "display_name": "Python 3 (ipykernel)",
   "language": "python",
   "name": "python3"
  },
  "language_info": {
   "codemirror_mode": {
    "name": "ipython",
    "version": 3
   },
   "file_extension": ".py",
   "mimetype": "text/x-python",
   "name": "python",
   "nbconvert_exporter": "python",
   "pygments_lexer": "ipython3",
   "version": "3.9.13"
  }
 },
 "nbformat": 4,
 "nbformat_minor": 5
}
